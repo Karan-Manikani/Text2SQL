{
  "cells": [
    {
      "cell_type": "markdown",
      "metadata": {
        "id": "OABRp3kqXywx"
      },
      "source": [
        "### Install libraries"
      ]
    },
    {
      "cell_type": "code",
      "execution_count": null,
      "metadata": {
        "id": "RDb-nC3XXtjx",
        "colab": {
          "base_uri": "https://localhost:8080/"
        },
        "outputId": "97cc7a6c-913f-4c87-a79a-b80535929e6a"
      },
      "outputs": [
        {
          "output_type": "stream",
          "name": "stdout",
          "text": [
            "\u001b[?25l     \u001b[90m━━━━━━━━━━━━━━━━━━━━━━━━━━━━━━━━━━━━━━━━\u001b[0m \u001b[32m0.0/1.3 MB\u001b[0m \u001b[31m?\u001b[0m eta \u001b[36m-:--:--\u001b[0m\r\u001b[2K     \u001b[91m━━\u001b[0m\u001b[91m╸\u001b[0m\u001b[90m━━━━━━━━━━━━━━━━━━━━━━━━━━━━━━━━━━━━━\u001b[0m \u001b[32m0.1/1.3 MB\u001b[0m \u001b[31m2.5 MB/s\u001b[0m eta \u001b[36m0:00:01\u001b[0m\r\u001b[2K     \u001b[91m━━━━━━━━━━━━━━━━━━━\u001b[0m\u001b[90m╺\u001b[0m\u001b[90m━━━━━━━━━━━━━━━━━━━━\u001b[0m \u001b[32m0.6/1.3 MB\u001b[0m \u001b[31m9.4 MB/s\u001b[0m eta \u001b[36m0:00:01\u001b[0m\r\u001b[2K     \u001b[90m━━━━━━━━━━━━━━━━━━━━━━━━━━━━━━━━━━━━━━━━\u001b[0m \u001b[32m1.3/1.3 MB\u001b[0m \u001b[31m13.7 MB/s\u001b[0m eta \u001b[36m0:00:00\u001b[0m\n",
            "\u001b[?25h"
          ]
        }
      ],
      "source": [
        "!pip install -q accelerate==0.21.0 peft==0.4.0 bitsandbytes==0.40.2 transformers==4.33.0 trl==0.4.7 sentencepiece"
      ]
    },
    {
      "cell_type": "markdown",
      "metadata": {
        "id": "slncmiyxX-6s"
      },
      "source": [
        "### Imports and Setup"
      ]
    },
    {
      "cell_type": "code",
      "execution_count": null,
      "metadata": {
        "id": "yWG1SV0wYAOx"
      },
      "outputs": [],
      "source": [
        "import os\n",
        "import torch\n",
        "import transformers\n",
        "import pandas as pd\n",
        "import torch.nn as nn\n",
        "import bitsandbytes as bnb\n",
        "import matplotlib.pyplot as plt\n",
        "\n",
        "from trl import SFTTrainer\n",
        "from huggingface_hub import login\n",
        "from datasets import load_dataset, Dataset\n",
        "from peft import LoraConfig, get_peft_model, PeftModel\n",
        "from transformers import AutoModelForCausalLM, AutoTokenizer, BitsAndBytesConfig, HfArgumentParser, TrainingArguments, pipeline, logging"
      ]
    },
    {
      "cell_type": "markdown",
      "metadata": {
        "id": "kdSZQSZWYj74"
      },
      "source": [
        "### Parameters"
      ]
    },
    {
      "cell_type": "code",
      "execution_count": null,
      "metadata": {
        "id": "EOO5dzwIZGQc"
      },
      "outputs": [],
      "source": [
        "# Model and dataset information\n",
        "DEVICE_MAP = {\"\": 0}\n",
        "DATASET = \"Hawk28/spider-sql-prompts\"\n",
        "FINETUNED_MODEL = \"Hawk28/Llama-3B-RP\"\n",
        "BASE_MODEL_NAME = \"openlm-research/open_llama_3b_v2\"\n",
        "\n",
        "# QLoRA parameters\n",
        "LORA_R = 8\n",
        "LORA_ALPHA = 16\n",
        "LORA_BIAS = \"none\"\n",
        "LORA_DROPOUT = 0.05\n",
        "LORA_TASK_TYPE = \"CAUSAL_LM\"\n",
        "LORA_TARGET_MODULES = ['q_proj','k_proj','v_proj','o_proj']\n",
        "\n",
        "# Bitsandbytes parameters\"\n",
        "BNB_USE_4_BIT = True\n",
        "BNB_USE_NESTED_QUANT = False\n",
        "BNB_4_BIT_QUANT_TYPE = \"nf4\"\n",
        "BNB_4_BIT_COMPUTE_DTYPE = \"float16\"\n",
        "\n",
        "# Trainer parameters\n",
        "TRAINER_FP16 = False\n",
        "TRAINER_BF16 = False\n",
        "TRAINER_MAX_STEPS = 150\n",
        "TRAINER_EVAL_STEPS = 25\n",
        "TRAINER_LOGGING_STEPS = 25\n",
        "TRAINER_MAX_GRAD_NORM = 0.3\n",
        "TRAINER_WARMUP_RATIO = 0.05\n",
        "TRAINER_WEIGHT_DECAY = 0.001\n",
        "TRAINER_NUM_TRAIN_EPOCHS = 1\n",
        "TRAINER_LEARNING_RATE = 2e-4\n",
        "TRAINER_GROUP_BY_LENGTH = True\n",
        "TRAINER_OUTPUT_DIR = \"./results\"\n",
        "TRAINER_OPTIM = \"paged_adamw_32bit\"\n",
        "TRAINER_LR_SCHEDULER_TYPE = \"linear\"\n",
        "TRAINER_EVALUATION_STRATEGY = \"steps\"\n",
        "TRAINER_GRADIENT_CHECKPOINTING = True\n",
        "TRAINER_PER_DEVICE_TRAIN_BATCH_SIZE = 4\n",
        "TRAINER_GRADIENT_ACCUMULATION_STEPS = 2\n",
        "\n",
        "# SFT Parameters\n",
        "SFT_PACKING = False\n",
        "SFT_MAX_SEQ_LENGTH = 1024"
      ]
    },
    {
      "cell_type": "markdown",
      "metadata": {
        "id": "pZGG9dR-mIqM"
      },
      "source": [
        "### Data"
      ]
    },
    {
      "cell_type": "code",
      "execution_count": null,
      "metadata": {
        "id": "5Te79kMlmMrk"
      },
      "outputs": [],
      "source": [
        "dataset = load_dataset(DATASET)"
      ]
    },
    {
      "cell_type": "code",
      "execution_count": null,
      "metadata": {
        "colab": {
          "base_uri": "https://localhost:8080/"
        },
        "id": "Rf0EKeVn9XPk",
        "outputId": "5d89f58d-1b99-4753-9401-5604c51bc588"
      },
      "outputs": [
        {
          "output_type": "execute_result",
          "data": {
            "text/plain": [
              "DatasetDict({\n",
              "    train: Dataset({\n",
              "        features: ['db_name', 'prompt'],\n",
              "        num_rows: 8659\n",
              "    })\n",
              "    validation: Dataset({\n",
              "        features: ['db_name', 'prompt'],\n",
              "        num_rows: 1034\n",
              "    })\n",
              "})"
            ]
          },
          "metadata": {},
          "execution_count": 6
        }
      ],
      "source": [
        "dataset"
      ]
    },
    {
      "cell_type": "code",
      "source": [
        "print(dataset[\"train\"][100][\"prompt\"])"
      ],
      "metadata": {
        "colab": {
          "base_uri": "https://localhost:8080/"
        },
        "id": "kY2jsT5er319",
        "outputId": "a3767927-30df-44ad-f381-44d8a2a15a69"
      },
      "execution_count": null,
      "outputs": [
        {
          "output_type": "stream",
          "name": "stdout",
          "text": [
            "### Complete SQL query only and with no explanation\n",
            "### SQL tables followed by foreign key information:\n",
            "#\n",
            "# Addresses ( address_id, line_1, line_2, city, zip_postcode, state_province_county, country )\n",
            "# People ( person_id, first_name, middle_name, last_name, cell_mobile_number, email_address, login_name, password )\n",
            "# Students ( student_id, student_details )\n",
            "# Courses ( course_id, course_name, course_description, other_details )\n",
            "# People_Addresses ( person_address_id, person_id, address_id, date_from, date_to )\n",
            "# Student_Course_Registrations ( student_id, course_id, registration_date )\n",
            "# Student_Course_Attendance ( student_id, course_id, date_of_attendance )\n",
            "# Candidates ( candidate_id, candidate_details )\n",
            "# Candidate_Assessments ( candidate_id, qualification, assessment_date, asessment_outcome_code )\n",
            "# \n",
            "# Students.student_id can be joined with People.person_id\n",
            "# People_Addresses.address_id can be joined with Addresses.address_id\n",
            "# People_Addresses.person_id can be joined with People.person_id\n",
            "# Student_Course_Registrations.course_id can be joined with Courses.course_id\n",
            "# Student_Course_Registrations.student_id can be joined with Students.student_id\n",
            "# Student_Course_Attendance.student_id can be joined with Student_Course_Registrations.student_id\n",
            "# Student_Course_Attendance.course_id can be joined with Student_Course_Registrations.course_id\n",
            "# Candidates.candidate_id can be joined with People.person_id\n",
            "# Candidate_Assessments.candidate_id can be joined with Candidates.candidate_id\n",
            "# \n",
            "### Question: \n",
            "# \n",
            "# What are the ids of the students who either registered or attended a course?\n",
            "# \n",
            "### SQL:\n",
            "# \n",
            "# SELECT student_id FROM student_course_registrations UNION SELECT student_id FROM student_course_attendance\n",
            "# \n",
            "### End.\n",
            "\n"
          ]
        }
      ]
    },
    {
      "cell_type": "markdown",
      "metadata": {
        "id": "dYzm2ql_nCOt"
      },
      "source": [
        "### Bits and Bytes Configuration"
      ]
    },
    {
      "cell_type": "code",
      "execution_count": null,
      "metadata": {
        "colab": {
          "base_uri": "https://localhost:8080/"
        },
        "id": "UybuFgeOn1H5",
        "outputId": "5826d763-5fcc-4b08-b2f5-2fac86aafb98"
      },
      "outputs": [
        {
          "output_type": "execute_result",
          "data": {
            "text/plain": [
              "torch.float16"
            ]
          },
          "metadata": {},
          "execution_count": 8
        }
      ],
      "source": [
        "BNB_4_BIT_COMPUTE_DTYPE = getattr(torch, BNB_4_BIT_COMPUTE_DTYPE)\n",
        "BNB_4_BIT_COMPUTE_DTYPE"
      ]
    },
    {
      "cell_type": "code",
      "execution_count": null,
      "metadata": {
        "id": "BKXhN6V8nVKO"
      },
      "outputs": [],
      "source": [
        "bnb_config = BitsAndBytesConfig(\n",
        "    load_in_4bit = BNB_USE_4_BIT,\n",
        "    bnb_4bit_quant_type = BNB_4_BIT_QUANT_TYPE,\n",
        "    bnb_4bit_compute_dtype = BNB_4_BIT_COMPUTE_DTYPE,\n",
        "    bnb_4bit_use_double_quant = BNB_USE_NESTED_QUANT\n",
        ")"
      ]
    },
    {
      "cell_type": "code",
      "execution_count": null,
      "metadata": {
        "id": "DyWnuFTbnlRS"
      },
      "outputs": [],
      "source": [
        "# Check GPU compatibility with bfloat16\n",
        "if BNB_4_BIT_COMPUTE_DTYPE == torch.float16 and BNB_USE_4_BIT:\n",
        "  major, _ = torch.cuda.get_device_capability()\n",
        "  if major >= 8:\n",
        "    print(\"=\" * 80)\n",
        "    print(\"Your GPU supports bfloat16: accelerate training with bf16=True\")\n",
        "    print(\"=\" * 80)\n",
        "    TRAINER_BF16 = True"
      ]
    },
    {
      "cell_type": "markdown",
      "metadata": {
        "id": "-G9aCNIxnjRq"
      },
      "source": [
        "### Load Base Model and Tokenizer"
      ]
    },
    {
      "cell_type": "code",
      "execution_count": null,
      "metadata": {
        "id": "gp3RD8TYoC5s"
      },
      "outputs": [],
      "source": [
        "# Load base model\n",
        "model = AutoModelForCausalLM.from_pretrained(\n",
        "    BASE_MODEL_NAME,\n",
        "    device_map = DEVICE_MAP,\n",
        "    quantization_config = bnb_config,\n",
        "    trust_remote_code = True\n",
        ")\n",
        "model.config.use_cache = False\n",
        "model.config.pretraining_tp = 1"
      ]
    },
    {
      "cell_type": "code",
      "execution_count": null,
      "metadata": {
        "id": "DSVEKgVUoC2T",
        "colab": {
          "base_uri": "https://localhost:8080/"
        },
        "outputId": "fc4b4fef-9b6e-4871-bfab-e85bc6f7e491"
      },
      "outputs": [
        {
          "output_type": "stream",
          "name": "stderr",
          "text": [
            "You are using the default legacy behaviour of the <class 'transformers.models.llama.tokenization_llama.LlamaTokenizer'>. If you see this, DO NOT PANIC! This is expected, and simply means that the `legacy` (previous) behavior will be used so nothing changes for you. If you want to use the new behaviour, set `legacy=False`. This should only be set if you understand what it means, and thouroughly read the reason why this was added as explained in https://github.com/huggingface/transformers/pull/24565\n"
          ]
        }
      ],
      "source": [
        "# Load tokenizer\n",
        "tokenizer = AutoTokenizer.from_pretrained(BASE_MODEL_NAME, trust_remote_code=True)\n",
        "tokenizer.pad_token = tokenizer.eos_token\n",
        "tokenizer.padding_side = \"right\" # Fix weird overflow issue with fp16 training"
      ]
    },
    {
      "cell_type": "code",
      "execution_count": null,
      "metadata": {
        "id": "PdHKFk434ERP",
        "colab": {
          "base_uri": "https://localhost:8080/"
        },
        "outputId": "b2c241ad-51e0-4f0e-878d-646f1e797a36"
      },
      "outputs": [
        {
          "output_type": "stream",
          "name": "stderr",
          "text": [
            "/usr/local/lib/python3.10/dist-packages/transformers/generation/utils.py:1417: UserWarning: You have modified the pretrained model configuration to control generation. This is a deprecated strategy to control generation and will be removed soon, in a future version. Please use a generation configuration file (see https://huggingface.co/docs/transformers/main_classes/text_generation )\n",
            "  warnings.warn(\n"
          ]
        },
        {
          "output_type": "stream",
          "name": "stdout",
          "text": [
            "\n",
            "\n",
            " ### Complete SQL query only and with no explanation\n",
            "### SQL tables followed by foreign key information:\n",
            "#\n",
            "# continents ( ContId, Continent )\n",
            "# countries ( CountryId, CountryName, Continent )\n",
            "# car_makers ( Id, Maker, FullName, Country )\n",
            "# model_list ( ModelId, Maker, Model )\n",
            "# car_names ( MakeId, Model, Make )\n",
            "# cars_data ( Id, MPG, Cylinders, Edispl, Horsepower, Weight, Accelerate, Year )\n",
            "#\n",
            "# countries.Continent can be joined with continents.ContId\n",
            "# car_makers.Country can be joined with countries.CountryId\n",
            "# model_list.Maker can be joined with car_makers.Id\n",
            "# car_names.Model can be joined with model_list.Model\n",
            "# cars_data.Id can be joined with car_names.MakeId\n",
            "#\n",
            "### Question:\n",
            "#\n",
            "# For each continent, list its id, name, and how many countries it has?\n",
            "#\n",
            "### SQL:\n",
            "#\n",
            "# SELECT Continent.ContId, Continent.ContName, COUNT(Country.CountryId) AS Countries\n",
            "# FROM continents AS Continent\n",
            "# INNER JOIN countries AS Country\n",
            "# ON Continent.ContId = Country.ContId\n",
            "# GROUP BY Continent.ContId, Continent.ContName\n",
            "# ORDER BY Continent.ContId, Continent.ContName\n",
            "### SQL:\n",
            "#\n",
            "# SELECT Contin\n"
          ]
        }
      ],
      "source": [
        "batch = tokenizer(\"\"\"### Complete SQL query only and with no explanation\n",
        "### SQL tables followed by foreign key information:\n",
        "#\n",
        "# continents ( ContId, Continent )\n",
        "# countries ( CountryId, CountryName, Continent )\n",
        "# car_makers ( Id, Maker, FullName, Country )\n",
        "# model_list ( ModelId, Maker, Model )\n",
        "# car_names ( MakeId, Model, Make )\n",
        "# cars_data ( Id, MPG, Cylinders, Edispl, Horsepower, Weight, Accelerate, Year )\n",
        "#\n",
        "# countries.Continent can be joined with continents.ContId\n",
        "# car_makers.Country can be joined with countries.CountryId\n",
        "# model_list.Maker can be joined with car_makers.Id\n",
        "# car_names.Model can be joined with model_list.Model\n",
        "# cars_data.Id can be joined with car_names.MakeId\n",
        "#\n",
        "### Question:\n",
        "#\n",
        "# For each continent, list its id, name, and how many countries it has?\n",
        "#\n",
        "### SQL:\n",
        "\"\"\", return_tensors='pt')\n",
        "\n",
        "with torch.cuda.amp.autocast():\n",
        "    input_ids = batch['input_ids'].to('cuda')  # Move input_ids to the CUDA device\n",
        "    output_tokens = model.generate(input_ids=input_ids, max_new_tokens=100)\n",
        "\n",
        "print('\\n\\n', tokenizer.decode(output_tokens[0], skip_special_tokens=True))"
      ]
    },
    {
      "cell_type": "code",
      "execution_count": null,
      "metadata": {
        "id": "3WNWGcX4pVY3"
      },
      "outputs": [],
      "source": [
        "# batch = tokenizer(\"\"\"Below is an instruction that describes a task, paired with an input that provides further context. Write an SQL query that appropriately completes the request. Make sure to use the table relationships when joining two or more tables.\n",
        "\n",
        "# ### Instruction:\n",
        "\n",
        "# For each continent, list its id, name, and how many countries it has?\n",
        "\n",
        "# ### Input:\n",
        "\n",
        "# CREATE TABLE continents (ContId NUMBER PRIMARY KEY, Continent TEXT); CREATE TABLE countries (CountryId NUMBER PRIMARY KEY, CountryName TEXT, Continent NUMBER); CREATE TABLE car_makers (Id NUMBER PRIMARY KEY, Maker TEXT, FullName TEXT, Country TEXT); CREATE TABLE model_list (ModelId NUMBER PRIMARY KEY, Maker NUMBER, Model TEXT); CREATE TABLE car_names (MakeId NUMBER PRIMARY KEY, Model TEXT, Make TEXT); CREATE TABLE cars_data (Id NUMBER PRIMARY KEY, MPG TEXT, Cylinders NUMBER, Edispl NUMBER, Horsepower TEXT, Weight NUMBER, Accelerate NUMBER, Year NUMBER);\n",
        "\n",
        "# ### Table Relationships:\n",
        "\n",
        "# countries Continent RELATES TO continents ContId; car_makers Country RELATES TO countries CountryId; model_list Maker RELATES TO car_makers Id; car_names Model RELATES TO model_list Model; cars_data Id RELATES TO car_names MakeId\n",
        "\n",
        "# ### SQL:\n",
        "# \"\"\", return_tensors='pt')\n",
        "\n",
        "# with torch.cuda.amp.autocast():\n",
        "#     input_ids = batch['input_ids'].to('cuda')  # Move input_ids to the CUDA device\n",
        "#     output_tokens = model.generate(input_ids=input_ids, max_new_tokens=100)\n",
        "\n",
        "# print('\\n\\n', tokenizer.decode(output_tokens[0], skip_special_tokens=True))"
      ]
    },
    {
      "cell_type": "markdown",
      "metadata": {
        "id": "ihCTDbrrohMx"
      },
      "source": [
        "### LoRA Configuration"
      ]
    },
    {
      "cell_type": "code",
      "execution_count": null,
      "metadata": {
        "id": "4p_gFzSFoCz7"
      },
      "outputs": [],
      "source": [
        "peft_config = LoraConfig(\n",
        "    r = LORA_R,\n",
        "    bias = LORA_BIAS,\n",
        "    lora_alpha = LORA_ALPHA,\n",
        "    task_type = LORA_TASK_TYPE,\n",
        "    lora_dropout = LORA_DROPOUT,\n",
        "    target_modules = LORA_TARGET_MODULES\n",
        ")"
      ]
    },
    {
      "cell_type": "markdown",
      "metadata": {
        "id": "DVinEVl_qsNx"
      },
      "source": [
        "### Training Configuration"
      ]
    },
    {
      "cell_type": "code",
      "execution_count": null,
      "metadata": {
        "id": "quD0sFFjnI6u"
      },
      "outputs": [],
      "source": [
        "# Set training parameters\n",
        "training_arguments = TrainingArguments(\n",
        "    save_steps = 0,\n",
        "    fp16 = TRAINER_FP16,\n",
        "    bf16 = TRAINER_BF16,\n",
        "    optim = TRAINER_OPTIM,\n",
        "    load_best_model_at_end = True,\n",
        "    max_steps = TRAINER_MAX_STEPS,\n",
        "    eval_steps = TRAINER_EVAL_STEPS,\n",
        "    output_dir = TRAINER_OUTPUT_DIR,\n",
        "    metric_for_best_model = 'eval_loss',\n",
        "    weight_decay = TRAINER_WEIGHT_DECAY,\n",
        "    warmup_ratio = TRAINER_WARMUP_RATIO,\n",
        "    logging_steps = TRAINER_LOGGING_STEPS,\n",
        "    learning_rate = TRAINER_LEARNING_RATE,\n",
        "    max_grad_norm = TRAINER_MAX_GRAD_NORM,\n",
        "    group_by_length = TRAINER_GROUP_BY_LENGTH,\n",
        "    lr_scheduler_type = TRAINER_LR_SCHEDULER_TYPE,\n",
        "    evaluation_strategy = TRAINER_EVALUATION_STRATEGY,\n",
        "    per_device_train_batch_size = TRAINER_PER_DEVICE_TRAIN_BATCH_SIZE,\n",
        "    gradient_accumulation_steps = TRAINER_GRADIENT_ACCUMULATION_STEPS,\n",
        "\n",
        ")"
      ]
    },
    {
      "cell_type": "code",
      "source": [
        "FINETUNED_MODEL = \"Hawk28/Llama-3B-RP\""
      ],
      "metadata": {
        "id": "cfvDTYA4nGDw"
      },
      "execution_count": null,
      "outputs": []
    },
    {
      "cell_type": "markdown",
      "metadata": {
        "id": "loY8tHbAsnkb"
      },
      "source": [
        "### SFT Trainer"
      ]
    },
    {
      "cell_type": "code",
      "execution_count": null,
      "metadata": {
        "colab": {
          "base_uri": "https://localhost:8080/",
          "height": 136,
          "referenced_widgets": [
            "005843f4da014aa88c869450b96c2d5b",
            "975883e6fa0243dc888133ca2f51643d",
            "e8dddc5046c04d22ac6e7e82c2eddad3",
            "c65546ad22504f808db1b968ae558ff4",
            "b2680f11c6de4e3d93e8bdb7e7d6ec36",
            "760ac8b886774596b17fb0511938bf23",
            "b422a218c76243438c9477bb73413a5c",
            "b4e3e6d8ef324c19acbff225fce82cb4",
            "12b7316bb10f4abe8c31e6fd3773d8c5",
            "0eb6904b954d4f54bb74649af14c3f71",
            "43e17875308340c9bf44f5d69cc7cd8d",
            "d9222f532524455eb415f8dd7eb174de",
            "7eb6e6ad1ec54ec28e286bf0d826f7a4",
            "4bb18fa454de4da79d848cbe601cc5b1",
            "2d5c8a22d1924f30b7fa6ea6d87fcd89",
            "faa56456018a4119b3494f3374768743",
            "e175e2f0b25246589e3e9f7b42ae0e17",
            "53417c0992204ebfbecf2cd3a17cd759",
            "62dcef3e01154200b1c303707eafea9e",
            "3fec96c0a5fe4c1b9cdc2b9c76ed68a9",
            "5d2dd6d2f0334fb48fa0806da060626e",
            "624f1a4c9a664715a8c46b9986b2def8"
          ]
        },
        "id": "of2CBZdnskEt",
        "outputId": "7d7b5065-70e5-4e4d-b3d1-3efbc6378ea3"
      },
      "outputs": [
        {
          "output_type": "stream",
          "name": "stderr",
          "text": [
            "/usr/local/lib/python3.10/dist-packages/peft/utils/other.py:102: FutureWarning: prepare_model_for_int8_training is deprecated and will be removed in a future version. Use prepare_model_for_kbit_training instead.\n",
            "  warnings.warn(\n"
          ]
        },
        {
          "output_type": "display_data",
          "data": {
            "text/plain": [
              "Map:   0%|          | 0/8659 [00:00<?, ? examples/s]"
            ],
            "application/vnd.jupyter.widget-view+json": {
              "version_major": 2,
              "version_minor": 0,
              "model_id": "005843f4da014aa88c869450b96c2d5b"
            }
          },
          "metadata": {}
        },
        {
          "output_type": "display_data",
          "data": {
            "text/plain": [
              "Map:   0%|          | 0/1034 [00:00<?, ? examples/s]"
            ],
            "application/vnd.jupyter.widget-view+json": {
              "version_major": 2,
              "version_minor": 0,
              "model_id": "d9222f532524455eb415f8dd7eb174de"
            }
          },
          "metadata": {}
        }
      ],
      "source": [
        "# Set supervised fine-tuning parameters\n",
        "trainer = SFTTrainer(\n",
        "    model = model,\n",
        "    packing = SFT_PACKING,\n",
        "    tokenizer = tokenizer,\n",
        "    peft_config = peft_config,\n",
        "    args = training_arguments,\n",
        "    dataset_text_field = \"prompt\",\n",
        "    # dataset_text_field = \"prompts\",\n",
        "    train_dataset = dataset[\"train\"],\n",
        "    eval_dataset = dataset['validation'],\n",
        "    max_seq_length = SFT_MAX_SEQ_LENGTH\n",
        ")"
      ]
    },
    {
      "cell_type": "markdown",
      "metadata": {
        "id": "FV26CfGWs4oJ"
      },
      "source": [
        "### Model Training"
      ]
    },
    {
      "cell_type": "code",
      "execution_count": null,
      "metadata": {
        "colab": {
          "base_uri": "https://localhost:8080/",
          "height": 405
        },
        "id": "jZ-2iLm2s6gT",
        "outputId": "566f8d8d-081c-4eb5-caac-2869b974bae1"
      },
      "outputs": [
        {
          "output_type": "stream",
          "name": "stderr",
          "text": [
            "You are using 8-bit optimizers with a version of `bitsandbytes` < 0.41.1. It is recommended to update your version as a major bug has been fixed in 8-bit optimizers.\n",
            "You're using a LlamaTokenizerFast tokenizer. Please note that with a fast tokenizer, using the `__call__` method is faster than using a method to encode the text followed by a call to the `pad` method to get a padded encoding.\n",
            "/usr/local/lib/python3.10/dist-packages/torch/utils/checkpoint.py:429: UserWarning: torch.utils.checkpoint: please pass in use_reentrant=True or use_reentrant=False explicitly. The default value of use_reentrant will be updated to be False in the future. To maintain current behavior, pass use_reentrant=True. It is recommended that you use use_reentrant=False. Refer to docs for more details on the differences between the two variants.\n",
            "  warnings.warn(\n"
          ]
        },
        {
          "output_type": "display_data",
          "data": {
            "text/plain": [
              "<IPython.core.display.HTML object>"
            ],
            "text/html": [
              "\n",
              "    <div>\n",
              "      \n",
              "      <progress value='150' max='150' style='width:300px; height:20px; vertical-align: middle;'></progress>\n",
              "      [150/150 40:25, Epoch 0/1]\n",
              "    </div>\n",
              "    <table border=\"1\" class=\"dataframe\">\n",
              "  <thead>\n",
              " <tr style=\"text-align: left;\">\n",
              "      <th>Step</th>\n",
              "      <th>Training Loss</th>\n",
              "      <th>Validation Loss</th>\n",
              "    </tr>\n",
              "  </thead>\n",
              "  <tbody>\n",
              "    <tr>\n",
              "      <td>25</td>\n",
              "      <td>0.891800</td>\n",
              "      <td>0.911210</td>\n",
              "    </tr>\n",
              "    <tr>\n",
              "      <td>50</td>\n",
              "      <td>0.802400</td>\n",
              "      <td>0.799513</td>\n",
              "    </tr>\n",
              "    <tr>\n",
              "      <td>75</td>\n",
              "      <td>0.566700</td>\n",
              "      <td>0.786496</td>\n",
              "    </tr>\n",
              "    <tr>\n",
              "      <td>100</td>\n",
              "      <td>0.700200</td>\n",
              "      <td>0.765190</td>\n",
              "    </tr>\n",
              "    <tr>\n",
              "      <td>125</td>\n",
              "      <td>0.517300</td>\n",
              "      <td>0.751766</td>\n",
              "    </tr>\n",
              "    <tr>\n",
              "      <td>150</td>\n",
              "      <td>0.622900</td>\n",
              "      <td>0.757363</td>\n",
              "    </tr>\n",
              "  </tbody>\n",
              "</table><p>"
            ]
          },
          "metadata": {}
        },
        {
          "output_type": "execute_result",
          "data": {
            "text/plain": [
              "TrainOutput(global_step=150, training_loss=0.6835488764444987, metrics={'train_runtime': 2442.8537, 'train_samples_per_second': 0.491, 'train_steps_per_second': 0.061, 'total_flos': 4800550622822400.0, 'train_loss': 0.6835488764444987, 'epoch': 0.14})"
            ]
          },
          "metadata": {},
          "execution_count": 21
        }
      ],
      "source": [
        "# Train model\n",
        "trainer.train()"
      ]
    },
    {
      "cell_type": "code",
      "execution_count": null,
      "metadata": {
        "id": "fAgYTIzks8FO"
      },
      "outputs": [],
      "source": [
        "# Save trained model\n",
        "trainer.model.save_pretrained(FINETUNED_MODEL)"
      ]
    },
    {
      "cell_type": "markdown",
      "metadata": {
        "id": "vB-76GvQtDIJ"
      },
      "source": [
        "### Inference"
      ]
    },
    {
      "cell_type": "code",
      "source": [
        "batch = tokenizer(\"\"\"### Complete SQL query only and with no explanation\n",
        "### SQL tables followed by foreign key information:\n",
        "#\n",
        "# continents ( ContId, Continent )\n",
        "# countries ( CountryId, CountryName, Continent )\n",
        "# car_makers ( Id, Maker, FullName, Country )\n",
        "# model_list ( ModelId, Maker, Model )\n",
        "# car_names ( MakeId, Model, Make )\n",
        "# cars_data ( Id, MPG, Cylinders, Edispl, Horsepower, Weight, Accelerate, Year )\n",
        "#\n",
        "# countries.Continent can be joined with continents.ContId\n",
        "# car_makers.Country can be joined with countries.CountryId\n",
        "# model_list.Maker can be joined with car_makers.Id\n",
        "# car_names.Model can be joined with model_list.Model\n",
        "# cars_data.Id can be joined with car_names.MakeId\n",
        "#\n",
        "### Question:\n",
        "#\n",
        "# For each continent, list its id, name, and how many countries it has?\n",
        "#\n",
        "### SQL:\n",
        "\"\"\", return_tensors='pt')\n",
        "\n",
        "with torch.cuda.amp.autocast():\n",
        "    input_ids = batch['input_ids'].to('cuda')  # Move input_ids to the CUDA device\n",
        "    output_tokens = model.generate(input_ids=input_ids, max_new_tokens=100)\n",
        "\n",
        "print('\\n\\n', tokenizer.decode(output_tokens[0], skip_special_tokens=True))"
      ],
      "metadata": {
        "colab": {
          "base_uri": "https://localhost:8080/"
        },
        "id": "Xao_43n8vzy_",
        "outputId": "11ea0b5e-00a2-418e-af66-ee906c5f864e"
      },
      "execution_count": null,
      "outputs": [
        {
          "output_type": "stream",
          "name": "stdout",
          "text": [
            "\n",
            "\n",
            " ### Complete SQL query only and with no explanation\n",
            "### SQL tables followed by foreign key information:\n",
            "#\n",
            "# continents ( ContId, Continent )\n",
            "# countries ( CountryId, CountryName, Continent )\n",
            "# car_makers ( Id, Maker, FullName, Country )\n",
            "# model_list ( ModelId, Maker, Model )\n",
            "# car_names ( MakeId, Model, Make )\n",
            "# cars_data ( Id, MPG, Cylinders, Edispl, Horsepower, Weight, Accelerate, Year )\n",
            "#\n",
            "# countries.Continent can be joined with continents.ContId\n",
            "# car_makers.Country can be joined with countries.CountryId\n",
            "# model_list.Maker can be joined with car_makers.Id\n",
            "# car_names.Model can be joined with model_list.Model\n",
            "# cars_data.Id can be joined with car_names.MakeId\n",
            "#\n",
            "### Question:\n",
            "#\n",
            "# For each continent, list its id, name, and how many countries it has?\n",
            "#\n",
            "### SQL:\n",
            "#\n",
            "# SELECT t1.ContId ,   t1.Continent ,   t1.Countries FROM continents AS t1 JOIN countries AS t2 ON t1.ContId  =  t2.ContId\n",
            "#\n",
            "### End.\n",
            "###\n",
            "### SQL tables followed by foreign key information:\n",
            "#\n",
            "# continents ( ContId, Continent )\n",
            "# countries ( CountryId, CountryName, Continent )\n",
            "# car_\n"
          ]
        }
      ]
    },
    {
      "cell_type": "code",
      "execution_count": null,
      "metadata": {
        "id": "6mxCFkQNdrYN"
      },
      "outputs": [],
      "source": [
        "# batch = tokenizer(\"\"\"Below is an instruction that describes a task, paired with an input that provides further context. Write an SQL query that appropriately completes the request. Make sure to use the table relationships when joining two or more tables.\n",
        "\n",
        "# ### Instruction:\n",
        "\n",
        "# For each continent, list its id, name, and how many countries it has?\n",
        "\n",
        "# ### Input:\n",
        "\n",
        "# CREATE TABLE continents (ContId NUMBER PRIMARY KEY, Continent TEXT); CREATE TABLE countries (CountryId NUMBER PRIMARY KEY, CountryName TEXT, Continent NUMBER); CREATE TABLE car_makers (Id NUMBER PRIMARY KEY, Maker TEXT, FullName TEXT, Country TEXT); CREATE TABLE model_list (ModelId NUMBER PRIMARY KEY, Maker NUMBER, Model TEXT); CREATE TABLE car_names (MakeId NUMBER PRIMARY KEY, Model TEXT, Make TEXT); CREATE TABLE cars_data (Id NUMBER PRIMARY KEY, MPG TEXT, Cylinders NUMBER, Edispl NUMBER, Horsepower TEXT, Weight NUMBER, Accelerate NUMBER, Year NUMBER);\n",
        "\n",
        "# ### Table Relationships:\n",
        "\n",
        "# countries Continent RELATES TO continents ContId; car_makers Country RELATES TO countries CountryId; model_list Maker RELATES TO car_makers Id; car_names Model RELATES TO model_list Model; cars_data Id RELATES TO car_names MakeId\n",
        "\n",
        "# ### Response:\n",
        "# \"\"\", return_tensors='pt')\n",
        "\n",
        "# with torch.cuda.amp.autocast():\n",
        "#     input_ids = batch['input_ids'].to('cuda')  # Move input_ids to the CUDA device\n",
        "#     output_tokens = model.generate(input_ids=input_ids, max_new_tokens=100)\n",
        "\n",
        "# print('\\n\\n', tokenizer.decode(output_tokens[0], skip_special_tokens=True))"
      ]
    },
    {
      "cell_type": "markdown",
      "source": [
        "## Inferences"
      ],
      "metadata": {
        "id": "xkCdH0KGnfBt"
      }
    },
    {
      "cell_type": "code",
      "source": [
        "batch = tokenizer(\"\"\"### Complete SQL query only and with no explanation\n",
        "### SQL tables followed by foreign key information:\n",
        "#\n",
        "# Books ( book_id, title, author_id, genre, publication_year )\n",
        "# Authors ( author_id, author_name, birth_year )\n",
        "# Members ( member_id, member_name, join_date )\n",
        "# BorrowedBooks ( borrow_id, book_id, member_id, borrow_date, return_date )\n",
        "#\n",
        "# BorrowedBooks.book_id can be joined with Books.book_id\n",
        "# BorrowedBooks.member_id can be joined with Members.member_id\n",
        "# Authors.author_id can be joined with Books.author_id\n",
        "#\n",
        "### Question:\n",
        "#\n",
        "# What are the titles and genres of all the books?\n",
        "#\n",
        "### SQL:\n",
        "\"\"\", return_tensors='pt')\n",
        "\n",
        "with torch.cuda.amp.autocast():\n",
        "    input_ids = batch['input_ids'].to('cuda')  # Move input_ids to the CUDA device\n",
        "    attention_mask = torch.ones(input_ids.shape, dtype=torch.bool).to(\"cuda\")\n",
        "    output_tokens = model.generate(input_ids=input_ids, max_new_tokens=100, attention_mask=attention_mask)\n",
        "\n",
        "print('\\n\\n', tokenizer.decode(output_tokens[0], skip_special_tokens=True))"
      ],
      "metadata": {
        "colab": {
          "base_uri": "https://localhost:8080/"
        },
        "id": "pyuhLemMnhdH",
        "outputId": "c714f30c-7978-4bba-e2e4-c1ca8b5000ac"
      },
      "execution_count": null,
      "outputs": [
        {
          "output_type": "stream",
          "name": "stdout",
          "text": [
            "\n",
            "\n",
            " ### Complete SQL query only and with no explanation\n",
            "### SQL tables followed by foreign key information:\n",
            "#\n",
            "# Books ( book_id, title, author_id, genre, publication_year )\n",
            "# Authors ( author_id, author_name, birth_year )\n",
            "# Members ( member_id, member_name, join_date )\n",
            "# BorrowedBooks ( borrow_id, book_id, member_id, borrow_date, return_date )\n",
            "#\n",
            "# BorrowedBooks.book_id can be joined with Books.book_id\n",
            "# BorrowedBooks.member_id can be joined with Members.member_id\n",
            "# Authors.author_id can be joined with Books.author_id\n",
            "#\n",
            "### Question:\n",
            "#\n",
            "# What are the titles and genres of all the books?\n",
            "#\n",
            "### SQL:\n",
            "#\n",
            "# SELECT title ,  genre FROM books\n",
            "#\n",
            "### End.\n",
            "###\n",
            "### Question:\n",
            "#\n",
            "# What are the names of all the authors?\n",
            "#\n",
            "### SQL:\n",
            "#\n",
            "# SELECT author_name FROM authors\n",
            "#\n",
            "### End.\n",
            "###\n",
            "### Question:\n",
            "#\n",
            "# What are the names of all the members?\n",
            "#\n",
            "### SQL:\n",
            "#\n",
            "# SELECT member_name FROM\n"
          ]
        }
      ]
    },
    {
      "cell_type": "code",
      "source": [
        "batch = tokenizer(\"\"\"### Complete SQL query only and with no explanation\n",
        "### SQL tables followed by foreign key information:\n",
        "#\n",
        "# Books ( book_id, title, author_id, genre, publication_year )\n",
        "# Authors ( author_id, author_name, birth_year )\n",
        "# Members ( member_id, member_name, join_date )\n",
        "# BorrowedBooks ( borrow_id, book_id, member_id, borrow_date, return_date )\n",
        "#\n",
        "# BorrowedBooks.book_id can be joined with Books.book_id\n",
        "# BorrowedBooks.member_id can be joined with Members.member_id\n",
        "# Authors.author_id can be joined with Books.author_id\n",
        "#\n",
        "### Question:\n",
        "#\n",
        "# Find the number of books published in each genre\n",
        "#\n",
        "### SQL:\n",
        "\"\"\", return_tensors='pt')\n",
        "\n",
        "with torch.cuda.amp.autocast():\n",
        "    input_ids = batch['input_ids'].to('cuda')  # Move input_ids to the CUDA device\n",
        "    output_tokens = model.generate(input_ids=input_ids, max_new_tokens=100)\n",
        "\n",
        "print('\\n\\n', tokenizer.decode(output_tokens[0], skip_special_tokens=True))"
      ],
      "metadata": {
        "colab": {
          "base_uri": "https://localhost:8080/"
        },
        "id": "wuyrGNe8nhZs",
        "outputId": "9c71fd6f-97eb-47cc-af70-9a604c29a811"
      },
      "execution_count": null,
      "outputs": [
        {
          "output_type": "stream",
          "name": "stdout",
          "text": [
            "\n",
            "\n",
            " ### Complete SQL query only and with no explanation\n",
            "### SQL tables followed by foreign key information:\n",
            "#\n",
            "# Books ( book_id, title, author_id, genre, publication_year )\n",
            "# Authors ( author_id, author_name, birth_year )\n",
            "# Members ( member_id, member_name, join_date )\n",
            "# BorrowedBooks ( borrow_id, book_id, member_id, borrow_date, return_date )\n",
            "#\n",
            "# BorrowedBooks.book_id can be joined with Books.book_id\n",
            "# BorrowedBooks.member_id can be joined with Members.member_id\n",
            "# Authors.author_id can be joined with Books.author_id\n",
            "#\n",
            "### Question:\n",
            "#\n",
            "# Find the number of books published in each genre\n",
            "#\n",
            "### SQL:\n",
            "#\n",
            "# SELECT genre ,  COUNT(*) FROM books GROUP BY genre\n",
            "#\n",
            "### End.\n",
            "###\n",
            "### Answer:\n",
            "#\n",
            "# GENRE   COUNT(*)\n",
            "# ----   -----------\n",
            "# Adventure  10\n",
            "# Biography  10\n",
            "# Children  10\n",
            "# Crime  10\n",
            "# Fantasy  10\n",
            "# Fiction  10\n",
            "# History  10\n",
            "# Horror  10\n",
            "#\n"
          ]
        }
      ]
    },
    {
      "cell_type": "code",
      "source": [
        "batch = tokenizer(\"\"\"### Complete SQL query only and with no explanation\n",
        "### SQL tables followed by foreign key information:\n",
        "#\n",
        "# Books ( book_id, title, author_id, genre, publication_year )\n",
        "# Authors ( author_id, author_name, birth_year )\n",
        "# Members ( member_id, member_name, join_date )\n",
        "# BorrowedBooks ( borrow_id, book_id, member_id, borrow_date, return_date )\n",
        "#\n",
        "# BorrowedBooks.book_id can be joined with Books.book_id\n",
        "# BorrowedBooks.member_id can be joined with Members.member_id\n",
        "# Authors.author_id can be joined with Books.author_id\n",
        "#\n",
        "### Question:\n",
        "#\n",
        "# Find the most borrowed book\n",
        "#\n",
        "### SQL:\n",
        "\"\"\", return_tensors='pt')\n",
        "\n",
        "with torch.cuda.amp.autocast():\n",
        "    input_ids = batch['input_ids'].to('cuda')  # Move input_ids to the CUDA device\n",
        "    output_tokens = model.generate(input_ids=input_ids, max_new_tokens=100)\n",
        "\n",
        "print('\\n\\n', tokenizer.decode(output_tokens[0], skip_special_tokens=True))"
      ],
      "metadata": {
        "colab": {
          "base_uri": "https://localhost:8080/"
        },
        "id": "93JTgcbsnhWw",
        "outputId": "e649cbb8-9d8d-4f6a-e8e3-675da704fc2e"
      },
      "execution_count": null,
      "outputs": [
        {
          "output_type": "stream",
          "name": "stdout",
          "text": [
            "\n",
            "\n",
            " ### Complete SQL query only and with no explanation\n",
            "### SQL tables followed by foreign key information:\n",
            "#\n",
            "# Books ( book_id, title, author_id, genre, publication_year )\n",
            "# Authors ( author_id, author_name, birth_year )\n",
            "# Members ( member_id, member_name, join_date )\n",
            "# BorrowedBooks ( borrow_id, book_id, member_id, borrow_date, return_date )\n",
            "#\n",
            "# BorrowedBooks.book_id can be joined with Books.book_id\n",
            "# BorrowedBooks.member_id can be joined with Members.member_id\n",
            "# Authors.author_id can be joined with Books.author_id\n",
            "#\n",
            "### Question:\n",
            "#\n",
            "# Find the most borrowed book\n",
            "#\n",
            "### SQL:\n",
            "#\n",
            "# SELECT t1.book_id FROM borrowedbooks AS t1 JOIN books AS t2 ON t1.book_id  =  t2.book_id ORDER BY t1.return_date DESC LIMIT 1\n",
            "#\n",
            "### End.\n",
            "###\n",
            "### SQL tables followed by foreign key information:\n",
            "#\n",
            "# BorrowedBooks ( book_id, member_id, borrow_date, return_date )\n",
            "#\n"
          ]
        }
      ]
    },
    {
      "cell_type": "code",
      "source": [
        "batch = tokenizer(\"\"\"### Complete SQL query only and with no explanation\n",
        "### SQL tables followed by foreign key information:\n",
        "#\n",
        "# Books ( book_id, title, author_id, genre, publication_year )\n",
        "# Authors ( author_id, author_name, birth_year )\n",
        "# Members ( member_id, member_name, join_date )\n",
        "# BorrowedBooks ( borrow_id, book_id, member_id, borrow_date, return_date )\n",
        "#\n",
        "# BorrowedBooks.book_id can be joined with Books.book_id\n",
        "# BorrowedBooks.member_id can be joined with Members.member_id\n",
        "# Authors.author_id can be joined with Books.author_id\n",
        "#\n",
        "### Question:\n",
        "#\n",
        "# What are the IDs, titles, and publication years of \"Fantasy\" genre books?\n",
        "#\n",
        "### SQL:\n",
        "\"\"\", return_tensors='pt')\n",
        "\n",
        "with torch.cuda.amp.autocast():\n",
        "    input_ids = batch['input_ids'].to('cuda')  # Move input_ids to the CUDA device\n",
        "    output_tokens = model.generate(input_ids=input_ids, max_new_tokens=100)\n",
        "\n",
        "print('\\n\\n', tokenizer.decode(output_tokens[0], skip_special_tokens=True))"
      ],
      "metadata": {
        "colab": {
          "base_uri": "https://localhost:8080/"
        },
        "id": "-59t0B0NnhUY",
        "outputId": "87e913e7-76bc-4115-e7f2-9674aaeb3b13"
      },
      "execution_count": null,
      "outputs": [
        {
          "output_type": "stream",
          "name": "stdout",
          "text": [
            "\n",
            "\n",
            " ### Complete SQL query only and with no explanation\n",
            "### SQL tables followed by foreign key information:\n",
            "#\n",
            "# Books ( book_id, title, author_id, genre, publication_year )\n",
            "# Authors ( author_id, author_name, birth_year )\n",
            "# Members ( member_id, member_name, join_date )\n",
            "# BorrowedBooks ( borrow_id, book_id, member_id, borrow_date, return_date )\n",
            "#\n",
            "# BorrowedBooks.book_id can be joined with Books.book_id\n",
            "# BorrowedBooks.member_id can be joined with Members.member_id\n",
            "# Authors.author_id can be joined with Books.author_id\n",
            "#\n",
            "### Question:\n",
            "#\n",
            "# What are the IDs, titles, and publication years of \"Fantasy\" genre books?\n",
            "#\n",
            "### SQL:\n",
            "#\n",
            "# SELECT T1.book_id ,  T1.title ,  T1.genre FROM Books AS T1 JOIN Books AS T2 ON T1.genre  =  T2.genre WHERE T1.genre  =  \"Fantasy\"\n",
            "#\n",
            "### End.\n",
            "###\n",
            "### Question:\n",
            "#\n",
            "# What are the IDs, titles, and publication years of \"Fantasy\" genre books\n"
          ]
        }
      ]
    },
    {
      "cell_type": "code",
      "source": [
        "batch = tokenizer(\"\"\"### Complete SQL query only and with no explanation\n",
        "### SQL tables followed by foreign key information:\n",
        "#\n",
        "# Books ( book_id, title, author_id, genre, publication_year )\n",
        "# Authors ( author_id, author_name, birth_year )\n",
        "# Members ( member_id, member_name, join_date )\n",
        "# BorrowedBooks ( borrow_id, book_id, member_id, borrow_date, return_date )\n",
        "#\n",
        "# BorrowedBooks.book_id can be joined with Books.book_id\n",
        "# BorrowedBooks.member_id can be joined with Members.member_id\n",
        "# Authors.author_id can be joined with Books.author_id\n",
        "#\n",
        "### Question:\n",
        "#\n",
        "# Can you provide a list of book titles and their respective authors?\n",
        "#\n",
        "### SQL:\n",
        "\"\"\", return_tensors='pt')\n",
        "\n",
        "with torch.cuda.amp.autocast():\n",
        "    input_ids = batch['input_ids'].to('cuda')  # Move input_ids to the CUDA device\n",
        "    output_tokens = model.generate(input_ids=input_ids, max_new_tokens=100)\n",
        "\n",
        "print('\\n\\n', tokenizer.decode(output_tokens[0], skip_special_tokens=True))"
      ],
      "metadata": {
        "colab": {
          "base_uri": "https://localhost:8080/"
        },
        "id": "4T9DG0Z8nhRo",
        "outputId": "61d8293f-61c6-43d8-fd73-0b05ca6bf0db"
      },
      "execution_count": null,
      "outputs": [
        {
          "output_type": "stream",
          "name": "stdout",
          "text": [
            "\n",
            "\n",
            " ### Complete SQL query only and with no explanation\n",
            "### SQL tables followed by foreign key information:\n",
            "#\n",
            "# Books ( book_id, title, author_id, genre, publication_year )\n",
            "# Authors ( author_id, author_name, birth_year )\n",
            "# Members ( member_id, member_name, join_date )\n",
            "# BorrowedBooks ( borrow_id, book_id, member_id, borrow_date, return_date )\n",
            "#\n",
            "# BorrowedBooks.book_id can be joined with Books.book_id\n",
            "# BorrowedBooks.member_id can be joined with Members.member_id\n",
            "# Authors.author_id can be joined with Books.author_id\n",
            "#\n",
            "### Question:\n",
            "#\n",
            "# Can you provide a list of book titles and their respective authors?\n",
            "#\n",
            "### SQL:\n",
            "#\n",
            "# SELECT title ,  T1.author_name FROM books AS T1 JOIN authors AS T2 ON T1.author_id  =  T2.author_id\n",
            "#\n",
            "### End.\n",
            "###\n",
            "### SQL tables followed by foreign key information:\n",
            "#\n",
            "# Books ( book_id, title, author_id, genre, publication_year )\n",
            "# Authors ( author_id, author_name, birth_year )\n",
            "\n"
          ]
        }
      ]
    },
    {
      "cell_type": "code",
      "source": [
        "batch = tokenizer(\"\"\"### Complete SQL query only and with no explanation\n",
        "### SQL tables followed by foreign key information:\n",
        "#\n",
        "# Books ( book_id, title, author_id, genre, publication_year )\n",
        "# Authors ( author_id, author_name, birth_year )\n",
        "# Members ( member_id, member_name, join_date )\n",
        "# BorrowedBooks ( borrow_id, book_id, member_id, borrow_date, return_date )\n",
        "#\n",
        "# BorrowedBooks.book_id can be joined with Books.book_id\n",
        "# BorrowedBooks.member_id can be joined with Members.member_id\n",
        "# Authors.author_id can be joined with Books.author_id\n",
        "#\n",
        "### Question:\n",
        "#\n",
        "# Which members borrowed books along with the borrow and return dates?\n",
        "#\n",
        "### SQL:\n",
        "\"\"\", return_tensors='pt')\n",
        "\n",
        "with torch.cuda.amp.autocast():\n",
        "    input_ids = batch['input_ids'].to('cuda')  # Move input_ids to the CUDA device\n",
        "    output_tokens = model.generate(input_ids=input_ids, max_new_tokens=100)\n",
        "\n",
        "print('\\n\\n', tokenizer.decode(output_tokens[0], skip_special_tokens=True))"
      ],
      "metadata": {
        "colab": {
          "base_uri": "https://localhost:8080/"
        },
        "id": "vUcNUWKvnhOt",
        "outputId": "e89e5b97-873b-467c-eba4-716e7891e57b"
      },
      "execution_count": null,
      "outputs": [
        {
          "output_type": "stream",
          "name": "stdout",
          "text": [
            "\n",
            "\n",
            " ### Complete SQL query only and with no explanation\n",
            "### SQL tables followed by foreign key information:\n",
            "#\n",
            "# Books ( book_id, title, author_id, genre, publication_year )\n",
            "# Authors ( author_id, author_name, birth_year )\n",
            "# Members ( member_id, member_name, join_date )\n",
            "# BorrowedBooks ( borrow_id, book_id, member_id, borrow_date, return_date )\n",
            "#\n",
            "# BorrowedBooks.book_id can be joined with Books.book_id\n",
            "# BorrowedBooks.member_id can be joined with Members.member_id\n",
            "# Authors.author_id can be joined with Books.author_id\n",
            "#\n",
            "### Question:\n",
            "#\n",
            "# Which members borrowed books along with the borrow and return dates?\n",
            "#\n",
            "### SQL:\n",
            "#\n",
            "# SELECT member_name FROM members WHERE join_date IN (SELECT return_date FROM borrowedbooks WHERE book_id IN (SELECT book_id FROM borrowedbooks WHERE member_id IN (SELECT member_id FROM members WHERE join_date IN (SELECT borrow_date FROM borrowedbooks WHERE book_id IN (SELECT book_id FROM borrowedbooks WHERE member_id IN (SELECT member_id FROM members WHERE join_date IN (SELECT borrow_date FROM borrowedbooks WHERE book\n"
          ]
        }
      ]
    },
    {
      "cell_type": "code",
      "source": [
        "batch = tokenizer(\"\"\"### Complete SQL query only and with no explanation\n",
        "### SQL tables followed by foreign key information:\n",
        "#\n",
        "# Books ( book_id, title, author_id, genre, publication_year )\n",
        "# Authors ( author_id, author_name, birth_year )\n",
        "# Members ( member_id, member_name, join_date )\n",
        "# BorrowedBooks ( borrow_id, book_id, member_id, borrow_date, return_date )\n",
        "#\n",
        "# BorrowedBooks.book_id can be joined with Books.book_id\n",
        "# BorrowedBooks.member_id can be joined with Members.member_id\n",
        "# Authors.author_id can be joined with Books.author_id\n",
        "#\n",
        "### Question:\n",
        "#\n",
        "# What are the titles and authors of books by authors born after 1950?\n",
        "#\n",
        "### SQL:\n",
        "\"\"\", return_tensors='pt')\n",
        "\n",
        "with torch.cuda.amp.autocast():\n",
        "    input_ids = batch['input_ids'].to('cuda')  # Move input_ids to the CUDA device\n",
        "    output_tokens = model.generate(input_ids=input_ids, max_new_tokens=100)\n",
        "\n",
        "print('\\n\\n', tokenizer.decode(output_tokens[0], skip_special_tokens=True))"
      ],
      "metadata": {
        "colab": {
          "base_uri": "https://localhost:8080/"
        },
        "id": "VGf55ft4nhMN",
        "outputId": "ed88857f-2318-4a61-f1b5-57cf16a87acf"
      },
      "execution_count": null,
      "outputs": [
        {
          "output_type": "stream",
          "name": "stdout",
          "text": [
            "\n",
            "\n",
            " ### Complete SQL query only and with no explanation\n",
            "### SQL tables followed by foreign key information:\n",
            "#\n",
            "# Books ( book_id, title, author_id, genre, publication_year )\n",
            "# Authors ( author_id, author_name, birth_year )\n",
            "# Members ( member_id, member_name, join_date )\n",
            "# BorrowedBooks ( borrow_id, book_id, member_id, borrow_date, return_date )\n",
            "#\n",
            "# BorrowedBooks.book_id can be joined with Books.book_id\n",
            "# BorrowedBooks.member_id can be joined with Members.member_id\n",
            "# Authors.author_id can be joined with Books.author_id\n",
            "#\n",
            "### Question:\n",
            "#\n",
            "# What are the titles and authors of books by authors born after 1950?\n",
            "#\n",
            "### SQL:\n",
            "#\n",
            "# SELECT title ,  T1.author_name FROM books AS T1 JOIN authors AS T2 ON T1.author_id  =  T2.author_id WHERE T2.birth_year  >  1950\n",
            "#\n",
            "### End.\n",
            "###\n",
            "### SQL tables followed by foreign key information:\n",
            "#\n",
            "# Books ( book_id, title, author_id, genre, publication_year )\n",
            "# Authors\n"
          ]
        }
      ]
    },
    {
      "cell_type": "code",
      "source": [
        "batch = tokenizer(\"\"\"### Complete SQL query only and with no explanation\n",
        "### SQL tables followed by foreign key information:\n",
        "#\n",
        "# Books ( book_id, title, author_id, genre, publication_year )\n",
        "# Authors ( author_id, author_name, birth_year )\n",
        "# Members ( member_id, member_name, join_date )\n",
        "# BorrowedBooks ( borrow_id, book_id, member_id, borrow_date, return_date )\n",
        "#\n",
        "# BorrowedBooks.book_id can be joined with Books.book_id\n",
        "# BorrowedBooks.member_id can be joined with Members.member_id\n",
        "# Authors.author_id can be joined with Books.author_id\n",
        "#\n",
        "### Question:\n",
        "#\n",
        "# Could you provide a list of unique genres available in the collection?\n",
        "#\n",
        "### SQL:\n",
        "\"\"\", return_tensors='pt')\n",
        "\n",
        "with torch.cuda.amp.autocast():\n",
        "    input_ids = batch['input_ids'].to('cuda')  # Move input_ids to the CUDA device\n",
        "    output_tokens = model.generate(input_ids=input_ids, max_new_tokens=100)\n",
        "\n",
        "print('\\n\\n', tokenizer.decode(output_tokens[0], skip_special_tokens=True))"
      ],
      "metadata": {
        "colab": {
          "base_uri": "https://localhost:8080/"
        },
        "id": "sSMwAdtUnhJp",
        "outputId": "cf02c7b3-a7fe-4460-8b5c-a7418aadcbc3"
      },
      "execution_count": null,
      "outputs": [
        {
          "output_type": "stream",
          "name": "stdout",
          "text": [
            "\n",
            "\n",
            " ### Complete SQL query only and with no explanation\n",
            "### SQL tables followed by foreign key information:\n",
            "#\n",
            "# Books ( book_id, title, author_id, genre, publication_year )\n",
            "# Authors ( author_id, author_name, birth_year )\n",
            "# Members ( member_id, member_name, join_date )\n",
            "# BorrowedBooks ( borrow_id, book_id, member_id, borrow_date, return_date )\n",
            "#\n",
            "# BorrowedBooks.book_id can be joined with Books.book_id\n",
            "# BorrowedBooks.member_id can be joined with Members.member_id\n",
            "# Authors.author_id can be joined with Books.author_id\n",
            "#\n",
            "### Question:\n",
            "#\n",
            "# Could you provide a list of unique genres available in the collection?\n",
            "#\n",
            "### SQL:\n",
            "#\n",
            "# SELECT DISTINCT genre FROM books\n",
            "#\n",
            "### End.\n",
            "###\n",
            "### Answer:\n",
            "#\n",
            "# fantasy\n",
            "#\n",
            "### End.\n",
            "###\n",
            "### SQL tables followed by foreign key information:\n",
            "#\n",
            "# Authors ( author_id, author_name, birth_year )\n",
            "# Books ( book_id, title, author_id, genre, publication_year )\n",
            "# BorrowedBooks ( borrow_id\n"
          ]
        }
      ]
    },
    {
      "cell_type": "code",
      "source": [
        "batch = tokenizer(\"\"\"### Complete SQL query only and with no explanation\n",
        "### SQL tables followed by foreign key information:\n",
        "#\n",
        "# Books ( book_id, title, author_id, genre, publication_year )\n",
        "# Authors ( author_id, author_name, birth_year )\n",
        "# Members ( member_id, member_name, join_date )\n",
        "# BorrowedBooks ( borrow_id, book_id, member_id, borrow_date, return_date )\n",
        "#\n",
        "# BorrowedBooks.book_id can be joined with Books.book_id\n",
        "# BorrowedBooks.member_id can be joined with Members.member_id\n",
        "# Authors.author_id can be joined with Books.author_id\n",
        "#\n",
        "### Question:\n",
        "#\n",
        "# Show the members who joined before 1st January 2022 (Format: DD-MM-YYYY) and the books they borrowed:\n",
        "#\n",
        "### SQL:\n",
        "\"\"\", return_tensors='pt')\n",
        "\n",
        "with torch.cuda.amp.autocast():\n",
        "    input_ids = batch['input_ids'].to('cuda')  # Move input_ids to the CUDA device\n",
        "    output_tokens = model.generate(input_ids=input_ids, max_new_tokens=100)\n",
        "\n",
        "print('\\n\\n', tokenizer.decode(output_tokens[0], skip_special_tokens=True))"
      ],
      "metadata": {
        "colab": {
          "base_uri": "https://localhost:8080/"
        },
        "id": "9E0SPv7SnhHI",
        "outputId": "96472ec6-0a0c-480d-e9b1-f02d01bb6d3e"
      },
      "execution_count": null,
      "outputs": [
        {
          "output_type": "stream",
          "name": "stdout",
          "text": [
            "\n",
            "\n",
            " ### Complete SQL query only and with no explanation\n",
            "### SQL tables followed by foreign key information:\n",
            "#\n",
            "# Books ( book_id, title, author_id, genre, publication_year )\n",
            "# Authors ( author_id, author_name, birth_year )\n",
            "# Members ( member_id, member_name, join_date )\n",
            "# BorrowedBooks ( borrow_id, book_id, member_id, borrow_date, return_date )\n",
            "#\n",
            "# BorrowedBooks.book_id can be joined with Books.book_id\n",
            "# BorrowedBooks.member_id can be joined with Members.member_id\n",
            "# Authors.author_id can be joined with Books.author_id\n",
            "#\n",
            "### Question:\n",
            "#\n",
            "# Show the members who joined before 1st January 2022 (Format: DD-MM-YYYY) and the books they borrowed:\n",
            "#\n",
            "### SQL:\n",
            "#\n",
            "# SELECT member_name ,  book_id FROM borrowedbooks WHERE return_date  <  '2022-01-01'\n",
            "#\n",
            "### End.\n",
            "###\n",
            "### SQL tables followed by foreign key information:\n",
            "#\n",
            "# BorrowedBooks ( book_id, member_id, borrow_date, return_date )\n",
            "# Members ( member_id, member_name, join_date )\n",
            "#\n",
            "##\n"
          ]
        }
      ]
    },
    {
      "cell_type": "code",
      "source": [
        "batch = tokenizer(\"\"\"### Complete SQL query only and with no explanation\n",
        "### SQL tables followed by foreign key information:\n",
        "#\n",
        "# Books ( book_id, title, author_id, genre, publication_year )\n",
        "# Authors ( author_id, author_name, birth_year )\n",
        "# Members ( member_id, member_name, join_date )\n",
        "# BorrowedBooks ( borrow_id, book_id, member_id, borrow_date, return_date )\n",
        "#\n",
        "# BorrowedBooks.book_id can be joined with Books.book_id\n",
        "# BorrowedBooks.member_id can be joined with Members.member_id\n",
        "# Authors.author_id can be joined with Books.author_id\n",
        "#\n",
        "### Question:\n",
        "#\n",
        "# Can you provide a list of members along with the number of books they have borrowed, sorted by the number of borrows in descending order?\n",
        "#\n",
        "### SQL:\n",
        "\"\"\", return_tensors='pt')\n",
        "\n",
        "with torch.cuda.amp.autocast():\n",
        "    input_ids = batch['input_ids'].to('cuda')  # Move input_ids to the CUDA device\n",
        "    output_tokens = model.generate(input_ids=input_ids, max_new_tokens=100)\n",
        "\n",
        "print('\\n\\n', tokenizer.decode(output_tokens[0], skip_special_tokens=True))"
      ],
      "metadata": {
        "colab": {
          "base_uri": "https://localhost:8080/"
        },
        "id": "w_gAIGhdnhEV",
        "outputId": "efaae3cd-5a22-487b-8a4c-a865b98b3384"
      },
      "execution_count": null,
      "outputs": [
        {
          "output_type": "stream",
          "name": "stdout",
          "text": [
            "\n",
            "\n",
            " ### Complete SQL query only and with no explanation\n",
            "### SQL tables followed by foreign key information:\n",
            "#\n",
            "# Books ( book_id, title, author_id, genre, publication_year )\n",
            "# Authors ( author_id, author_name, birth_year )\n",
            "# Members ( member_id, member_name, join_date )\n",
            "# BorrowedBooks ( borrow_id, book_id, member_id, borrow_date, return_date )\n",
            "#\n",
            "# BorrowedBooks.book_id can be joined with Books.book_id\n",
            "# BorrowedBooks.member_id can be joined with Members.member_id\n",
            "# Authors.author_id can be joined with Books.author_id\n",
            "#\n",
            "### Question:\n",
            "#\n",
            "# Can you provide a list of members along with the number of books they have borrowed, sorted by the number of borrows in descending order?\n",
            "#\n",
            "### SQL:\n",
            "#\n",
            "# SELECT member_name ,  COUNT(*) FROM borrowed_books GROUP BY member_name ORDER BY COUNT(*) DESC\n",
            "#\n",
            "### End.\n",
            "###\n",
            "# \n",
            "# \n",
            "# \n",
            "# \n",
            "# \n",
            "# \n",
            "# \n",
            "# \n",
            "# \n",
            "# \n",
            "# \n",
            "# \n",
            "# \n",
            "# \n",
            "# \n",
            "# \n",
            "# \n",
            "# \n",
            "# \n",
            "#\n"
          ]
        }
      ]
    },
    {
      "cell_type": "code",
      "source": [
        "batch = tokenizer(\"\"\"### Complete SQL query only and with no explanation\n",
        "### SQL tables followed by foreign key information:\n",
        "#\n",
        "# Books ( book_id, title, author_id, genre, publication_year )\n",
        "# Authors ( author_id, author_name, birth_year )\n",
        "# Members ( member_id, member_name, join_date )\n",
        "# BorrowedBooks ( borrow_id, book_id, member_id, borrow_date, return_date )\n",
        "#\n",
        "# BorrowedBooks.book_id can be joined with Books.book_id\n",
        "# BorrowedBooks.member_id can be joined with Members.member_id\n",
        "# Authors.author_id can be joined with Books.author_id\n",
        "#\n",
        "### Question:\n",
        "#\n",
        "# What is the earliest publication year of a book in the \"Fiction\" genre?\n",
        "#\n",
        "### SQL:\n",
        "\"\"\", return_tensors='pt')\n",
        "\n",
        "with torch.cuda.amp.autocast():\n",
        "    input_ids = batch['input_ids'].to('cuda')  # Move input_ids to the CUDA device\n",
        "    output_tokens = model.generate(input_ids=input_ids, max_new_tokens=100)\n",
        "\n",
        "print('\\n\\n', tokenizer.decode(output_tokens[0], skip_special_tokens=True))"
      ],
      "metadata": {
        "colab": {
          "base_uri": "https://localhost:8080/"
        },
        "id": "9jDrfOumnhB6",
        "outputId": "cd928f9d-97ce-44e3-f8e6-708d021ab3fc"
      },
      "execution_count": null,
      "outputs": [
        {
          "output_type": "stream",
          "name": "stdout",
          "text": [
            "\n",
            "\n",
            " ### Complete SQL query only and with no explanation\n",
            "### SQL tables followed by foreign key information:\n",
            "#\n",
            "# Books ( book_id, title, author_id, genre, publication_year )\n",
            "# Authors ( author_id, author_name, birth_year )\n",
            "# Members ( member_id, member_name, join_date )\n",
            "# BorrowedBooks ( borrow_id, book_id, member_id, borrow_date, return_date )\n",
            "#\n",
            "# BorrowedBooks.book_id can be joined with Books.book_id\n",
            "# BorrowedBooks.member_id can be joined with Members.member_id\n",
            "# Authors.author_id can be joined with Books.author_id\n",
            "#\n",
            "### Question:\n",
            "#\n",
            "# What is the earliest publication year of a book in the \"Fiction\" genre?\n",
            "#\n",
            "### SQL:\n",
            "#\n",
            "# SELECT publication_year FROM books WHERE genre  =  \"Fiction\" ORDER BY publication_year LIMIT 1\n",
            "#\n",
            "### End.\n",
            "###\n",
            "### SQL tables followed by foreign key information:\n",
            "#\n",
            "# Authors ( author_id, author_name, birth_year )\n",
            "# Books ( book_id, title, author_id, genre, publication_year )\n",
            "# BorrowedBooks ( borrow_id, book_id\n"
          ]
        }
      ]
    },
    {
      "cell_type": "markdown",
      "metadata": {
        "id": "FGfBFvzVtQE3"
      },
      "source": [
        "### Save Model on HuggingFace"
      ]
    },
    {
      "cell_type": "code",
      "execution_count": null,
      "metadata": {
        "colab": {
          "base_uri": "https://localhost:8080/"
        },
        "id": "175v4c4-tTzw",
        "outputId": "33661d07-ed3e-43f1-83f2-1e5391a5e9ce"
      },
      "outputs": [
        {
          "output_type": "execute_result",
          "data": {
            "text/plain": [
              "0"
            ]
          },
          "metadata": {},
          "execution_count": 33
        }
      ],
      "source": [
        "# Empty VRAM\n",
        "del model\n",
        "del trainer\n",
        "del batch\n",
        "import gc\n",
        "gc.collect()\n",
        "gc.collect()"
      ]
    },
    {
      "cell_type": "code",
      "execution_count": null,
      "metadata": {
        "colab": {
          "base_uri": "https://localhost:8080/",
          "height": 36
        },
        "id": "iy5j7H0ct-R2",
        "outputId": "d317c089-278c-4c7e-f398-a180c5b434d7"
      },
      "outputs": [
        {
          "output_type": "execute_result",
          "data": {
            "text/plain": [
              "'codellama/CodeLlama-13b-hf'"
            ],
            "application/vnd.google.colaboratory.intrinsic+json": {
              "type": "string"
            }
          },
          "metadata": {},
          "execution_count": 34
        }
      ],
      "source": [
        "BASE_MODEL_NAME"
      ]
    },
    {
      "cell_type": "code",
      "execution_count": null,
      "metadata": {
        "colab": {
          "base_uri": "https://localhost:8080/",
          "height": 36
        },
        "id": "Rt8ZtW5Tt-MK",
        "outputId": "fa042f25-0dc2-41ef-918a-601594c3b7a2"
      },
      "outputs": [
        {
          "output_type": "execute_result",
          "data": {
            "text/plain": [
              "'Hawk28/CodeLlama-13B-RP-2'"
            ],
            "application/vnd.google.colaboratory.intrinsic+json": {
              "type": "string"
            }
          },
          "metadata": {},
          "execution_count": 35
        }
      ],
      "source": [
        "FINETUNED_MODEL"
      ]
    },
    {
      "cell_type": "code",
      "execution_count": null,
      "metadata": {
        "colab": {
          "base_uri": "https://localhost:8080/",
          "height": 49,
          "referenced_widgets": [
            "1cc429d105d3410c9ab44f41d19db9cb",
            "b1d774450adc4887a95298781f2d81c3",
            "0ffd76e97024455b88eeded56ae2a47a",
            "c3c1a4e288e541328e8750e6c2974896",
            "66ae0c3073da4ed1804c1deba660265c",
            "22277ac638c244219ef43d5fa7876171",
            "e9cf7d5161d34272b7bef8cc14b59ac0",
            "067de6f95ecc42e188f5e6185c9cd50e",
            "aa94fbb73b104fc3902c06f6de8a222f",
            "b538313fdff74d37931d027138555d04",
            "947f76f2d17d4f3da36cd2a641cb0a17"
          ]
        },
        "id": "s8bWALI8tWaD",
        "outputId": "feca8d10-8dcc-4127-b2db-4e788750ac21"
      },
      "outputs": [
        {
          "output_type": "display_data",
          "data": {
            "text/plain": [
              "Loading checkpoint shards:   0%|          | 0/3 [00:00<?, ?it/s]"
            ],
            "application/vnd.jupyter.widget-view+json": {
              "version_major": 2,
              "version_minor": 0,
              "model_id": "1cc429d105d3410c9ab44f41d19db9cb"
            }
          },
          "metadata": {}
        }
      ],
      "source": [
        "# Reload model in FP16 and merge it with LoRA weights\n",
        "base_model = AutoModelForCausalLM.from_pretrained(\n",
        "    BASE_MODEL_NAME,\n",
        "    low_cpu_mem_usage = True,\n",
        "    return_dict = True,\n",
        "    torch_dtype = torch.float16,\n",
        "    device_map = DEVICE_MAP,\n",
        "    trust_remote_code = True\n",
        ")\n",
        "model = PeftModel.from_pretrained(base_model, FINETUNED_MODEL)\n",
        "model = model.merge_and_unload()\n",
        "\n",
        "# Reload tokenizer to save it\n",
        "tokenizer = AutoTokenizer.from_pretrained(BASE_MODEL_NAME, trust_remote_code=True)\n",
        "tokenizer.pad_token = tokenizer.eos_token\n",
        "tokenizer.padding_side = \"right\""
      ]
    },
    {
      "cell_type": "code",
      "execution_count": null,
      "metadata": {
        "colab": {
          "base_uri": "https://localhost:8080/",
          "height": 197,
          "referenced_widgets": [
            "fbadaf856370470eb40741fbf2631414",
            "0102dcdbe04d44338b0c69aceb549a8f",
            "d4ddc0b756a2431e85d601d7bb4983c9",
            "65a6c9e32f9a4e91a33d18f2d204a465",
            "59c8c7d0f62a4701acb602087dd03317",
            "b21173af92234753bd517a6858846de6",
            "c5f32cdadb1243fa98b98d07c7d769ce",
            "dd2d8a40872b4b30ba90590e4c6bc94e",
            "2068e394fc5b4bb5ba192e8b04d1d8b5",
            "d902000969234b09a4eca48aae0b97ac",
            "7c5d1325c34f47d8a6c15ea564a3eb6c",
            "a9ff6dd782d04fc2a2ad6f6285f30258",
            "9e0f7e103c0a46b88070434826d39c02",
            "691c9877e2064cfda7121368a076bf39",
            "a7c68fc5a5784a1e9b250f0b76967e11",
            "922484af573c46f193f4e6df7a26c1b7",
            "a6f065341377425ca20b9ba0609d163c",
            "7ba83ecc66a14b6c81aa5d30aabb51a9",
            "54ef24e2aa8046a3951798a861f3d0b7",
            "e238fd45a23b4329962d3710aa958048",
            "10838cd37e4c459a9af72180b449a917",
            "6c3c23398ab2485e91e93ec8cc90cef3",
            "651aba7bbbd74d008b1b966315980366",
            "cff18133a21641f7a7e7fe318b9bdb78",
            "980faff4090745189b7c07aafafb458d",
            "90a52e4d21d74f10a7097da040607c0a",
            "53705cb7737b4d518ab7726ee40215cc",
            "4145a953c9a64e679caa2057dc5e532b",
            "0ba64499e82b465193e9bd7c844ecb8d",
            "0fff4d13a57a4565abc482b98b54aa3f",
            "e4c15517ef6c4f0f951f5306eeee784a",
            "b4d2556c297e424c8425e09de072c88d",
            "8ea09f4b8eb649f7a323049cef4e838c",
            "471ad57298524f678ecd56f3418eb951",
            "05a4ca997b984ee287ba1b8d8fd76a42",
            "cc6e41be20914abcb92fb7c7d598fa29",
            "fd59dff927b547b1a37a423d56457344",
            "d3ec04f0d2d64934a992104023298d01",
            "2e29b3c28a8849c1bd5d85de7b47e778",
            "4927c5f2f11b4d1d821c0449ee81b2cf",
            "70b822c122da4831b608ac86bfce01c3",
            "6c805d03eb9742a6b79bd90dc43ac311",
            "36ad0e1246a247f6ae737164bef7a623",
            "fe6455d83d3749018e5f6e6e9c49069c"
          ]
        },
        "id": "ibDfBSdktWWd",
        "outputId": "8af4bce9-09b5-4142-b7fe-5d3d4d002b4c"
      },
      "outputs": [
        {
          "output_type": "display_data",
          "data": {
            "text/plain": [
              "pytorch_model-00001-of-00003.bin:   0%|          | 0.00/9.95G [00:00<?, ?B/s]"
            ],
            "application/vnd.jupyter.widget-view+json": {
              "version_major": 2,
              "version_minor": 0,
              "model_id": "fbadaf856370470eb40741fbf2631414"
            }
          },
          "metadata": {}
        },
        {
          "output_type": "display_data",
          "data": {
            "text/plain": [
              "Upload 3 LFS files:   0%|          | 0/3 [00:00<?, ?it/s]"
            ],
            "application/vnd.jupyter.widget-view+json": {
              "version_major": 2,
              "version_minor": 0,
              "model_id": "a9ff6dd782d04fc2a2ad6f6285f30258"
            }
          },
          "metadata": {}
        },
        {
          "output_type": "display_data",
          "data": {
            "text/plain": [
              "pytorch_model-00003-of-00003.bin:   0%|          | 0.00/6.18G [00:00<?, ?B/s]"
            ],
            "application/vnd.jupyter.widget-view+json": {
              "version_major": 2,
              "version_minor": 0,
              "model_id": "651aba7bbbd74d008b1b966315980366"
            }
          },
          "metadata": {}
        },
        {
          "output_type": "display_data",
          "data": {
            "text/plain": [
              "pytorch_model-00002-of-00003.bin:   0%|          | 0.00/9.90G [00:00<?, ?B/s]"
            ],
            "application/vnd.jupyter.widget-view+json": {
              "version_major": 2,
              "version_minor": 0,
              "model_id": "471ad57298524f678ecd56f3418eb951"
            }
          },
          "metadata": {}
        },
        {
          "output_type": "execute_result",
          "data": {
            "text/plain": [
              "CommitInfo(commit_url='https://huggingface.co/Hawk28/CodeLlama-13B-RP-2/commit/61a99f30947153a758c3ea078686d31c184fe5b2', commit_message='Upload tokenizer', commit_description='', oid='61a99f30947153a758c3ea078686d31c184fe5b2', pr_url=None, pr_revision=None, pr_num=None)"
            ]
          },
          "metadata": {},
          "execution_count": 37
        }
      ],
      "source": [
        "model.push_to_hub(FINETUNED_MODEL)\n",
        "tokenizer.push_to_hub(FINETUNED_MODEL)"
      ]
    },
    {
      "cell_type": "code",
      "execution_count": null,
      "metadata": {
        "id": "e6cSw_TItWRt"
      },
      "outputs": [],
      "source": []
    }
  ],
  "metadata": {
    "accelerator": "GPU",
    "colab": {
      "provenance": [],
      "gpuType": "T4"
    },
    "kernelspec": {
      "display_name": "Python 3",
      "name": "python3"
    },
    "language_info": {
      "name": "python"
    },
    "widgets": {
      "application/vnd.jupyter.widget-state+json": {
        "1cc429d105d3410c9ab44f41d19db9cb": {
          "model_module": "@jupyter-widgets/controls",
          "model_name": "HBoxModel",
          "model_module_version": "1.5.0",
          "state": {
            "_dom_classes": [],
            "_model_module": "@jupyter-widgets/controls",
            "_model_module_version": "1.5.0",
            "_model_name": "HBoxModel",
            "_view_count": null,
            "_view_module": "@jupyter-widgets/controls",
            "_view_module_version": "1.5.0",
            "_view_name": "HBoxView",
            "box_style": "",
            "children": [
              "IPY_MODEL_b1d774450adc4887a95298781f2d81c3",
              "IPY_MODEL_0ffd76e97024455b88eeded56ae2a47a",
              "IPY_MODEL_c3c1a4e288e541328e8750e6c2974896"
            ],
            "layout": "IPY_MODEL_66ae0c3073da4ed1804c1deba660265c"
          }
        },
        "b1d774450adc4887a95298781f2d81c3": {
          "model_module": "@jupyter-widgets/controls",
          "model_name": "HTMLModel",
          "model_module_version": "1.5.0",
          "state": {
            "_dom_classes": [],
            "_model_module": "@jupyter-widgets/controls",
            "_model_module_version": "1.5.0",
            "_model_name": "HTMLModel",
            "_view_count": null,
            "_view_module": "@jupyter-widgets/controls",
            "_view_module_version": "1.5.0",
            "_view_name": "HTMLView",
            "description": "",
            "description_tooltip": null,
            "layout": "IPY_MODEL_22277ac638c244219ef43d5fa7876171",
            "placeholder": "​",
            "style": "IPY_MODEL_e9cf7d5161d34272b7bef8cc14b59ac0",
            "value": "Loading checkpoint shards: 100%"
          }
        },
        "0ffd76e97024455b88eeded56ae2a47a": {
          "model_module": "@jupyter-widgets/controls",
          "model_name": "FloatProgressModel",
          "model_module_version": "1.5.0",
          "state": {
            "_dom_classes": [],
            "_model_module": "@jupyter-widgets/controls",
            "_model_module_version": "1.5.0",
            "_model_name": "FloatProgressModel",
            "_view_count": null,
            "_view_module": "@jupyter-widgets/controls",
            "_view_module_version": "1.5.0",
            "_view_name": "ProgressView",
            "bar_style": "success",
            "description": "",
            "description_tooltip": null,
            "layout": "IPY_MODEL_067de6f95ecc42e188f5e6185c9cd50e",
            "max": 3,
            "min": 0,
            "orientation": "horizontal",
            "style": "IPY_MODEL_aa94fbb73b104fc3902c06f6de8a222f",
            "value": 3
          }
        },
        "c3c1a4e288e541328e8750e6c2974896": {
          "model_module": "@jupyter-widgets/controls",
          "model_name": "HTMLModel",
          "model_module_version": "1.5.0",
          "state": {
            "_dom_classes": [],
            "_model_module": "@jupyter-widgets/controls",
            "_model_module_version": "1.5.0",
            "_model_name": "HTMLModel",
            "_view_count": null,
            "_view_module": "@jupyter-widgets/controls",
            "_view_module_version": "1.5.0",
            "_view_name": "HTMLView",
            "description": "",
            "description_tooltip": null,
            "layout": "IPY_MODEL_b538313fdff74d37931d027138555d04",
            "placeholder": "​",
            "style": "IPY_MODEL_947f76f2d17d4f3da36cd2a641cb0a17",
            "value": " 3/3 [00:13&lt;00:00,  4.18s/it]"
          }
        },
        "66ae0c3073da4ed1804c1deba660265c": {
          "model_module": "@jupyter-widgets/base",
          "model_name": "LayoutModel",
          "model_module_version": "1.2.0",
          "state": {
            "_model_module": "@jupyter-widgets/base",
            "_model_module_version": "1.2.0",
            "_model_name": "LayoutModel",
            "_view_count": null,
            "_view_module": "@jupyter-widgets/base",
            "_view_module_version": "1.2.0",
            "_view_name": "LayoutView",
            "align_content": null,
            "align_items": null,
            "align_self": null,
            "border": null,
            "bottom": null,
            "display": null,
            "flex": null,
            "flex_flow": null,
            "grid_area": null,
            "grid_auto_columns": null,
            "grid_auto_flow": null,
            "grid_auto_rows": null,
            "grid_column": null,
            "grid_gap": null,
            "grid_row": null,
            "grid_template_areas": null,
            "grid_template_columns": null,
            "grid_template_rows": null,
            "height": null,
            "justify_content": null,
            "justify_items": null,
            "left": null,
            "margin": null,
            "max_height": null,
            "max_width": null,
            "min_height": null,
            "min_width": null,
            "object_fit": null,
            "object_position": null,
            "order": null,
            "overflow": null,
            "overflow_x": null,
            "overflow_y": null,
            "padding": null,
            "right": null,
            "top": null,
            "visibility": null,
            "width": null
          }
        },
        "22277ac638c244219ef43d5fa7876171": {
          "model_module": "@jupyter-widgets/base",
          "model_name": "LayoutModel",
          "model_module_version": "1.2.0",
          "state": {
            "_model_module": "@jupyter-widgets/base",
            "_model_module_version": "1.2.0",
            "_model_name": "LayoutModel",
            "_view_count": null,
            "_view_module": "@jupyter-widgets/base",
            "_view_module_version": "1.2.0",
            "_view_name": "LayoutView",
            "align_content": null,
            "align_items": null,
            "align_self": null,
            "border": null,
            "bottom": null,
            "display": null,
            "flex": null,
            "flex_flow": null,
            "grid_area": null,
            "grid_auto_columns": null,
            "grid_auto_flow": null,
            "grid_auto_rows": null,
            "grid_column": null,
            "grid_gap": null,
            "grid_row": null,
            "grid_template_areas": null,
            "grid_template_columns": null,
            "grid_template_rows": null,
            "height": null,
            "justify_content": null,
            "justify_items": null,
            "left": null,
            "margin": null,
            "max_height": null,
            "max_width": null,
            "min_height": null,
            "min_width": null,
            "object_fit": null,
            "object_position": null,
            "order": null,
            "overflow": null,
            "overflow_x": null,
            "overflow_y": null,
            "padding": null,
            "right": null,
            "top": null,
            "visibility": null,
            "width": null
          }
        },
        "e9cf7d5161d34272b7bef8cc14b59ac0": {
          "model_module": "@jupyter-widgets/controls",
          "model_name": "DescriptionStyleModel",
          "model_module_version": "1.5.0",
          "state": {
            "_model_module": "@jupyter-widgets/controls",
            "_model_module_version": "1.5.0",
            "_model_name": "DescriptionStyleModel",
            "_view_count": null,
            "_view_module": "@jupyter-widgets/base",
            "_view_module_version": "1.2.0",
            "_view_name": "StyleView",
            "description_width": ""
          }
        },
        "067de6f95ecc42e188f5e6185c9cd50e": {
          "model_module": "@jupyter-widgets/base",
          "model_name": "LayoutModel",
          "model_module_version": "1.2.0",
          "state": {
            "_model_module": "@jupyter-widgets/base",
            "_model_module_version": "1.2.0",
            "_model_name": "LayoutModel",
            "_view_count": null,
            "_view_module": "@jupyter-widgets/base",
            "_view_module_version": "1.2.0",
            "_view_name": "LayoutView",
            "align_content": null,
            "align_items": null,
            "align_self": null,
            "border": null,
            "bottom": null,
            "display": null,
            "flex": null,
            "flex_flow": null,
            "grid_area": null,
            "grid_auto_columns": null,
            "grid_auto_flow": null,
            "grid_auto_rows": null,
            "grid_column": null,
            "grid_gap": null,
            "grid_row": null,
            "grid_template_areas": null,
            "grid_template_columns": null,
            "grid_template_rows": null,
            "height": null,
            "justify_content": null,
            "justify_items": null,
            "left": null,
            "margin": null,
            "max_height": null,
            "max_width": null,
            "min_height": null,
            "min_width": null,
            "object_fit": null,
            "object_position": null,
            "order": null,
            "overflow": null,
            "overflow_x": null,
            "overflow_y": null,
            "padding": null,
            "right": null,
            "top": null,
            "visibility": null,
            "width": null
          }
        },
        "aa94fbb73b104fc3902c06f6de8a222f": {
          "model_module": "@jupyter-widgets/controls",
          "model_name": "ProgressStyleModel",
          "model_module_version": "1.5.0",
          "state": {
            "_model_module": "@jupyter-widgets/controls",
            "_model_module_version": "1.5.0",
            "_model_name": "ProgressStyleModel",
            "_view_count": null,
            "_view_module": "@jupyter-widgets/base",
            "_view_module_version": "1.2.0",
            "_view_name": "StyleView",
            "bar_color": null,
            "description_width": ""
          }
        },
        "b538313fdff74d37931d027138555d04": {
          "model_module": "@jupyter-widgets/base",
          "model_name": "LayoutModel",
          "model_module_version": "1.2.0",
          "state": {
            "_model_module": "@jupyter-widgets/base",
            "_model_module_version": "1.2.0",
            "_model_name": "LayoutModel",
            "_view_count": null,
            "_view_module": "@jupyter-widgets/base",
            "_view_module_version": "1.2.0",
            "_view_name": "LayoutView",
            "align_content": null,
            "align_items": null,
            "align_self": null,
            "border": null,
            "bottom": null,
            "display": null,
            "flex": null,
            "flex_flow": null,
            "grid_area": null,
            "grid_auto_columns": null,
            "grid_auto_flow": null,
            "grid_auto_rows": null,
            "grid_column": null,
            "grid_gap": null,
            "grid_row": null,
            "grid_template_areas": null,
            "grid_template_columns": null,
            "grid_template_rows": null,
            "height": null,
            "justify_content": null,
            "justify_items": null,
            "left": null,
            "margin": null,
            "max_height": null,
            "max_width": null,
            "min_height": null,
            "min_width": null,
            "object_fit": null,
            "object_position": null,
            "order": null,
            "overflow": null,
            "overflow_x": null,
            "overflow_y": null,
            "padding": null,
            "right": null,
            "top": null,
            "visibility": null,
            "width": null
          }
        },
        "947f76f2d17d4f3da36cd2a641cb0a17": {
          "model_module": "@jupyter-widgets/controls",
          "model_name": "DescriptionStyleModel",
          "model_module_version": "1.5.0",
          "state": {
            "_model_module": "@jupyter-widgets/controls",
            "_model_module_version": "1.5.0",
            "_model_name": "DescriptionStyleModel",
            "_view_count": null,
            "_view_module": "@jupyter-widgets/base",
            "_view_module_version": "1.2.0",
            "_view_name": "StyleView",
            "description_width": ""
          }
        },
        "fbadaf856370470eb40741fbf2631414": {
          "model_module": "@jupyter-widgets/controls",
          "model_name": "HBoxModel",
          "model_module_version": "1.5.0",
          "state": {
            "_dom_classes": [],
            "_model_module": "@jupyter-widgets/controls",
            "_model_module_version": "1.5.0",
            "_model_name": "HBoxModel",
            "_view_count": null,
            "_view_module": "@jupyter-widgets/controls",
            "_view_module_version": "1.5.0",
            "_view_name": "HBoxView",
            "box_style": "",
            "children": [
              "IPY_MODEL_0102dcdbe04d44338b0c69aceb549a8f",
              "IPY_MODEL_d4ddc0b756a2431e85d601d7bb4983c9",
              "IPY_MODEL_65a6c9e32f9a4e91a33d18f2d204a465"
            ],
            "layout": "IPY_MODEL_59c8c7d0f62a4701acb602087dd03317"
          }
        },
        "0102dcdbe04d44338b0c69aceb549a8f": {
          "model_module": "@jupyter-widgets/controls",
          "model_name": "HTMLModel",
          "model_module_version": "1.5.0",
          "state": {
            "_dom_classes": [],
            "_model_module": "@jupyter-widgets/controls",
            "_model_module_version": "1.5.0",
            "_model_name": "HTMLModel",
            "_view_count": null,
            "_view_module": "@jupyter-widgets/controls",
            "_view_module_version": "1.5.0",
            "_view_name": "HTMLView",
            "description": "",
            "description_tooltip": null,
            "layout": "IPY_MODEL_b21173af92234753bd517a6858846de6",
            "placeholder": "​",
            "style": "IPY_MODEL_c5f32cdadb1243fa98b98d07c7d769ce",
            "value": "pytorch_model-00001-of-00003.bin: 100%"
          }
        },
        "d4ddc0b756a2431e85d601d7bb4983c9": {
          "model_module": "@jupyter-widgets/controls",
          "model_name": "FloatProgressModel",
          "model_module_version": "1.5.0",
          "state": {
            "_dom_classes": [],
            "_model_module": "@jupyter-widgets/controls",
            "_model_module_version": "1.5.0",
            "_model_name": "FloatProgressModel",
            "_view_count": null,
            "_view_module": "@jupyter-widgets/controls",
            "_view_module_version": "1.5.0",
            "_view_name": "ProgressView",
            "bar_style": "success",
            "description": "",
            "description_tooltip": null,
            "layout": "IPY_MODEL_dd2d8a40872b4b30ba90590e4c6bc94e",
            "max": 9948885680,
            "min": 0,
            "orientation": "horizontal",
            "style": "IPY_MODEL_2068e394fc5b4bb5ba192e8b04d1d8b5",
            "value": 9948885680
          }
        },
        "65a6c9e32f9a4e91a33d18f2d204a465": {
          "model_module": "@jupyter-widgets/controls",
          "model_name": "HTMLModel",
          "model_module_version": "1.5.0",
          "state": {
            "_dom_classes": [],
            "_model_module": "@jupyter-widgets/controls",
            "_model_module_version": "1.5.0",
            "_model_name": "HTMLModel",
            "_view_count": null,
            "_view_module": "@jupyter-widgets/controls",
            "_view_module_version": "1.5.0",
            "_view_name": "HTMLView",
            "description": "",
            "description_tooltip": null,
            "layout": "IPY_MODEL_d902000969234b09a4eca48aae0b97ac",
            "placeholder": "​",
            "style": "IPY_MODEL_7c5d1325c34f47d8a6c15ea564a3eb6c",
            "value": " 9.95G/9.95G [06:56&lt;00:00, 21.4MB/s]"
          }
        },
        "59c8c7d0f62a4701acb602087dd03317": {
          "model_module": "@jupyter-widgets/base",
          "model_name": "LayoutModel",
          "model_module_version": "1.2.0",
          "state": {
            "_model_module": "@jupyter-widgets/base",
            "_model_module_version": "1.2.0",
            "_model_name": "LayoutModel",
            "_view_count": null,
            "_view_module": "@jupyter-widgets/base",
            "_view_module_version": "1.2.0",
            "_view_name": "LayoutView",
            "align_content": null,
            "align_items": null,
            "align_self": null,
            "border": null,
            "bottom": null,
            "display": null,
            "flex": null,
            "flex_flow": null,
            "grid_area": null,
            "grid_auto_columns": null,
            "grid_auto_flow": null,
            "grid_auto_rows": null,
            "grid_column": null,
            "grid_gap": null,
            "grid_row": null,
            "grid_template_areas": null,
            "grid_template_columns": null,
            "grid_template_rows": null,
            "height": null,
            "justify_content": null,
            "justify_items": null,
            "left": null,
            "margin": null,
            "max_height": null,
            "max_width": null,
            "min_height": null,
            "min_width": null,
            "object_fit": null,
            "object_position": null,
            "order": null,
            "overflow": null,
            "overflow_x": null,
            "overflow_y": null,
            "padding": null,
            "right": null,
            "top": null,
            "visibility": null,
            "width": null
          }
        },
        "b21173af92234753bd517a6858846de6": {
          "model_module": "@jupyter-widgets/base",
          "model_name": "LayoutModel",
          "model_module_version": "1.2.0",
          "state": {
            "_model_module": "@jupyter-widgets/base",
            "_model_module_version": "1.2.0",
            "_model_name": "LayoutModel",
            "_view_count": null,
            "_view_module": "@jupyter-widgets/base",
            "_view_module_version": "1.2.0",
            "_view_name": "LayoutView",
            "align_content": null,
            "align_items": null,
            "align_self": null,
            "border": null,
            "bottom": null,
            "display": null,
            "flex": null,
            "flex_flow": null,
            "grid_area": null,
            "grid_auto_columns": null,
            "grid_auto_flow": null,
            "grid_auto_rows": null,
            "grid_column": null,
            "grid_gap": null,
            "grid_row": null,
            "grid_template_areas": null,
            "grid_template_columns": null,
            "grid_template_rows": null,
            "height": null,
            "justify_content": null,
            "justify_items": null,
            "left": null,
            "margin": null,
            "max_height": null,
            "max_width": null,
            "min_height": null,
            "min_width": null,
            "object_fit": null,
            "object_position": null,
            "order": null,
            "overflow": null,
            "overflow_x": null,
            "overflow_y": null,
            "padding": null,
            "right": null,
            "top": null,
            "visibility": null,
            "width": null
          }
        },
        "c5f32cdadb1243fa98b98d07c7d769ce": {
          "model_module": "@jupyter-widgets/controls",
          "model_name": "DescriptionStyleModel",
          "model_module_version": "1.5.0",
          "state": {
            "_model_module": "@jupyter-widgets/controls",
            "_model_module_version": "1.5.0",
            "_model_name": "DescriptionStyleModel",
            "_view_count": null,
            "_view_module": "@jupyter-widgets/base",
            "_view_module_version": "1.2.0",
            "_view_name": "StyleView",
            "description_width": ""
          }
        },
        "dd2d8a40872b4b30ba90590e4c6bc94e": {
          "model_module": "@jupyter-widgets/base",
          "model_name": "LayoutModel",
          "model_module_version": "1.2.0",
          "state": {
            "_model_module": "@jupyter-widgets/base",
            "_model_module_version": "1.2.0",
            "_model_name": "LayoutModel",
            "_view_count": null,
            "_view_module": "@jupyter-widgets/base",
            "_view_module_version": "1.2.0",
            "_view_name": "LayoutView",
            "align_content": null,
            "align_items": null,
            "align_self": null,
            "border": null,
            "bottom": null,
            "display": null,
            "flex": null,
            "flex_flow": null,
            "grid_area": null,
            "grid_auto_columns": null,
            "grid_auto_flow": null,
            "grid_auto_rows": null,
            "grid_column": null,
            "grid_gap": null,
            "grid_row": null,
            "grid_template_areas": null,
            "grid_template_columns": null,
            "grid_template_rows": null,
            "height": null,
            "justify_content": null,
            "justify_items": null,
            "left": null,
            "margin": null,
            "max_height": null,
            "max_width": null,
            "min_height": null,
            "min_width": null,
            "object_fit": null,
            "object_position": null,
            "order": null,
            "overflow": null,
            "overflow_x": null,
            "overflow_y": null,
            "padding": null,
            "right": null,
            "top": null,
            "visibility": null,
            "width": null
          }
        },
        "2068e394fc5b4bb5ba192e8b04d1d8b5": {
          "model_module": "@jupyter-widgets/controls",
          "model_name": "ProgressStyleModel",
          "model_module_version": "1.5.0",
          "state": {
            "_model_module": "@jupyter-widgets/controls",
            "_model_module_version": "1.5.0",
            "_model_name": "ProgressStyleModel",
            "_view_count": null,
            "_view_module": "@jupyter-widgets/base",
            "_view_module_version": "1.2.0",
            "_view_name": "StyleView",
            "bar_color": null,
            "description_width": ""
          }
        },
        "d902000969234b09a4eca48aae0b97ac": {
          "model_module": "@jupyter-widgets/base",
          "model_name": "LayoutModel",
          "model_module_version": "1.2.0",
          "state": {
            "_model_module": "@jupyter-widgets/base",
            "_model_module_version": "1.2.0",
            "_model_name": "LayoutModel",
            "_view_count": null,
            "_view_module": "@jupyter-widgets/base",
            "_view_module_version": "1.2.0",
            "_view_name": "LayoutView",
            "align_content": null,
            "align_items": null,
            "align_self": null,
            "border": null,
            "bottom": null,
            "display": null,
            "flex": null,
            "flex_flow": null,
            "grid_area": null,
            "grid_auto_columns": null,
            "grid_auto_flow": null,
            "grid_auto_rows": null,
            "grid_column": null,
            "grid_gap": null,
            "grid_row": null,
            "grid_template_areas": null,
            "grid_template_columns": null,
            "grid_template_rows": null,
            "height": null,
            "justify_content": null,
            "justify_items": null,
            "left": null,
            "margin": null,
            "max_height": null,
            "max_width": null,
            "min_height": null,
            "min_width": null,
            "object_fit": null,
            "object_position": null,
            "order": null,
            "overflow": null,
            "overflow_x": null,
            "overflow_y": null,
            "padding": null,
            "right": null,
            "top": null,
            "visibility": null,
            "width": null
          }
        },
        "7c5d1325c34f47d8a6c15ea564a3eb6c": {
          "model_module": "@jupyter-widgets/controls",
          "model_name": "DescriptionStyleModel",
          "model_module_version": "1.5.0",
          "state": {
            "_model_module": "@jupyter-widgets/controls",
            "_model_module_version": "1.5.0",
            "_model_name": "DescriptionStyleModel",
            "_view_count": null,
            "_view_module": "@jupyter-widgets/base",
            "_view_module_version": "1.2.0",
            "_view_name": "StyleView",
            "description_width": ""
          }
        },
        "a9ff6dd782d04fc2a2ad6f6285f30258": {
          "model_module": "@jupyter-widgets/controls",
          "model_name": "HBoxModel",
          "model_module_version": "1.5.0",
          "state": {
            "_dom_classes": [],
            "_model_module": "@jupyter-widgets/controls",
            "_model_module_version": "1.5.0",
            "_model_name": "HBoxModel",
            "_view_count": null,
            "_view_module": "@jupyter-widgets/controls",
            "_view_module_version": "1.5.0",
            "_view_name": "HBoxView",
            "box_style": "",
            "children": [
              "IPY_MODEL_9e0f7e103c0a46b88070434826d39c02",
              "IPY_MODEL_691c9877e2064cfda7121368a076bf39",
              "IPY_MODEL_a7c68fc5a5784a1e9b250f0b76967e11"
            ],
            "layout": "IPY_MODEL_922484af573c46f193f4e6df7a26c1b7"
          }
        },
        "9e0f7e103c0a46b88070434826d39c02": {
          "model_module": "@jupyter-widgets/controls",
          "model_name": "HTMLModel",
          "model_module_version": "1.5.0",
          "state": {
            "_dom_classes": [],
            "_model_module": "@jupyter-widgets/controls",
            "_model_module_version": "1.5.0",
            "_model_name": "HTMLModel",
            "_view_count": null,
            "_view_module": "@jupyter-widgets/controls",
            "_view_module_version": "1.5.0",
            "_view_name": "HTMLView",
            "description": "",
            "description_tooltip": null,
            "layout": "IPY_MODEL_a6f065341377425ca20b9ba0609d163c",
            "placeholder": "​",
            "style": "IPY_MODEL_7ba83ecc66a14b6c81aa5d30aabb51a9",
            "value": "Upload 3 LFS files: 100%"
          }
        },
        "691c9877e2064cfda7121368a076bf39": {
          "model_module": "@jupyter-widgets/controls",
          "model_name": "FloatProgressModel",
          "model_module_version": "1.5.0",
          "state": {
            "_dom_classes": [],
            "_model_module": "@jupyter-widgets/controls",
            "_model_module_version": "1.5.0",
            "_model_name": "FloatProgressModel",
            "_view_count": null,
            "_view_module": "@jupyter-widgets/controls",
            "_view_module_version": "1.5.0",
            "_view_name": "ProgressView",
            "bar_style": "success",
            "description": "",
            "description_tooltip": null,
            "layout": "IPY_MODEL_54ef24e2aa8046a3951798a861f3d0b7",
            "max": 3,
            "min": 0,
            "orientation": "horizontal",
            "style": "IPY_MODEL_e238fd45a23b4329962d3710aa958048",
            "value": 3
          }
        },
        "a7c68fc5a5784a1e9b250f0b76967e11": {
          "model_module": "@jupyter-widgets/controls",
          "model_name": "HTMLModel",
          "model_module_version": "1.5.0",
          "state": {
            "_dom_classes": [],
            "_model_module": "@jupyter-widgets/controls",
            "_model_module_version": "1.5.0",
            "_model_name": "HTMLModel",
            "_view_count": null,
            "_view_module": "@jupyter-widgets/controls",
            "_view_module_version": "1.5.0",
            "_view_name": "HTMLView",
            "description": "",
            "description_tooltip": null,
            "layout": "IPY_MODEL_10838cd37e4c459a9af72180b449a917",
            "placeholder": "​",
            "style": "IPY_MODEL_6c3c23398ab2485e91e93ec8cc90cef3",
            "value": " 3/3 [07:10&lt;00:00, 113.09s/it]"
          }
        },
        "922484af573c46f193f4e6df7a26c1b7": {
          "model_module": "@jupyter-widgets/base",
          "model_name": "LayoutModel",
          "model_module_version": "1.2.0",
          "state": {
            "_model_module": "@jupyter-widgets/base",
            "_model_module_version": "1.2.0",
            "_model_name": "LayoutModel",
            "_view_count": null,
            "_view_module": "@jupyter-widgets/base",
            "_view_module_version": "1.2.0",
            "_view_name": "LayoutView",
            "align_content": null,
            "align_items": null,
            "align_self": null,
            "border": null,
            "bottom": null,
            "display": null,
            "flex": null,
            "flex_flow": null,
            "grid_area": null,
            "grid_auto_columns": null,
            "grid_auto_flow": null,
            "grid_auto_rows": null,
            "grid_column": null,
            "grid_gap": null,
            "grid_row": null,
            "grid_template_areas": null,
            "grid_template_columns": null,
            "grid_template_rows": null,
            "height": null,
            "justify_content": null,
            "justify_items": null,
            "left": null,
            "margin": null,
            "max_height": null,
            "max_width": null,
            "min_height": null,
            "min_width": null,
            "object_fit": null,
            "object_position": null,
            "order": null,
            "overflow": null,
            "overflow_x": null,
            "overflow_y": null,
            "padding": null,
            "right": null,
            "top": null,
            "visibility": null,
            "width": null
          }
        },
        "a6f065341377425ca20b9ba0609d163c": {
          "model_module": "@jupyter-widgets/base",
          "model_name": "LayoutModel",
          "model_module_version": "1.2.0",
          "state": {
            "_model_module": "@jupyter-widgets/base",
            "_model_module_version": "1.2.0",
            "_model_name": "LayoutModel",
            "_view_count": null,
            "_view_module": "@jupyter-widgets/base",
            "_view_module_version": "1.2.0",
            "_view_name": "LayoutView",
            "align_content": null,
            "align_items": null,
            "align_self": null,
            "border": null,
            "bottom": null,
            "display": null,
            "flex": null,
            "flex_flow": null,
            "grid_area": null,
            "grid_auto_columns": null,
            "grid_auto_flow": null,
            "grid_auto_rows": null,
            "grid_column": null,
            "grid_gap": null,
            "grid_row": null,
            "grid_template_areas": null,
            "grid_template_columns": null,
            "grid_template_rows": null,
            "height": null,
            "justify_content": null,
            "justify_items": null,
            "left": null,
            "margin": null,
            "max_height": null,
            "max_width": null,
            "min_height": null,
            "min_width": null,
            "object_fit": null,
            "object_position": null,
            "order": null,
            "overflow": null,
            "overflow_x": null,
            "overflow_y": null,
            "padding": null,
            "right": null,
            "top": null,
            "visibility": null,
            "width": null
          }
        },
        "7ba83ecc66a14b6c81aa5d30aabb51a9": {
          "model_module": "@jupyter-widgets/controls",
          "model_name": "DescriptionStyleModel",
          "model_module_version": "1.5.0",
          "state": {
            "_model_module": "@jupyter-widgets/controls",
            "_model_module_version": "1.5.0",
            "_model_name": "DescriptionStyleModel",
            "_view_count": null,
            "_view_module": "@jupyter-widgets/base",
            "_view_module_version": "1.2.0",
            "_view_name": "StyleView",
            "description_width": ""
          }
        },
        "54ef24e2aa8046a3951798a861f3d0b7": {
          "model_module": "@jupyter-widgets/base",
          "model_name": "LayoutModel",
          "model_module_version": "1.2.0",
          "state": {
            "_model_module": "@jupyter-widgets/base",
            "_model_module_version": "1.2.0",
            "_model_name": "LayoutModel",
            "_view_count": null,
            "_view_module": "@jupyter-widgets/base",
            "_view_module_version": "1.2.0",
            "_view_name": "LayoutView",
            "align_content": null,
            "align_items": null,
            "align_self": null,
            "border": null,
            "bottom": null,
            "display": null,
            "flex": null,
            "flex_flow": null,
            "grid_area": null,
            "grid_auto_columns": null,
            "grid_auto_flow": null,
            "grid_auto_rows": null,
            "grid_column": null,
            "grid_gap": null,
            "grid_row": null,
            "grid_template_areas": null,
            "grid_template_columns": null,
            "grid_template_rows": null,
            "height": null,
            "justify_content": null,
            "justify_items": null,
            "left": null,
            "margin": null,
            "max_height": null,
            "max_width": null,
            "min_height": null,
            "min_width": null,
            "object_fit": null,
            "object_position": null,
            "order": null,
            "overflow": null,
            "overflow_x": null,
            "overflow_y": null,
            "padding": null,
            "right": null,
            "top": null,
            "visibility": null,
            "width": null
          }
        },
        "e238fd45a23b4329962d3710aa958048": {
          "model_module": "@jupyter-widgets/controls",
          "model_name": "ProgressStyleModel",
          "model_module_version": "1.5.0",
          "state": {
            "_model_module": "@jupyter-widgets/controls",
            "_model_module_version": "1.5.0",
            "_model_name": "ProgressStyleModel",
            "_view_count": null,
            "_view_module": "@jupyter-widgets/base",
            "_view_module_version": "1.2.0",
            "_view_name": "StyleView",
            "bar_color": null,
            "description_width": ""
          }
        },
        "10838cd37e4c459a9af72180b449a917": {
          "model_module": "@jupyter-widgets/base",
          "model_name": "LayoutModel",
          "model_module_version": "1.2.0",
          "state": {
            "_model_module": "@jupyter-widgets/base",
            "_model_module_version": "1.2.0",
            "_model_name": "LayoutModel",
            "_view_count": null,
            "_view_module": "@jupyter-widgets/base",
            "_view_module_version": "1.2.0",
            "_view_name": "LayoutView",
            "align_content": null,
            "align_items": null,
            "align_self": null,
            "border": null,
            "bottom": null,
            "display": null,
            "flex": null,
            "flex_flow": null,
            "grid_area": null,
            "grid_auto_columns": null,
            "grid_auto_flow": null,
            "grid_auto_rows": null,
            "grid_column": null,
            "grid_gap": null,
            "grid_row": null,
            "grid_template_areas": null,
            "grid_template_columns": null,
            "grid_template_rows": null,
            "height": null,
            "justify_content": null,
            "justify_items": null,
            "left": null,
            "margin": null,
            "max_height": null,
            "max_width": null,
            "min_height": null,
            "min_width": null,
            "object_fit": null,
            "object_position": null,
            "order": null,
            "overflow": null,
            "overflow_x": null,
            "overflow_y": null,
            "padding": null,
            "right": null,
            "top": null,
            "visibility": null,
            "width": null
          }
        },
        "6c3c23398ab2485e91e93ec8cc90cef3": {
          "model_module": "@jupyter-widgets/controls",
          "model_name": "DescriptionStyleModel",
          "model_module_version": "1.5.0",
          "state": {
            "_model_module": "@jupyter-widgets/controls",
            "_model_module_version": "1.5.0",
            "_model_name": "DescriptionStyleModel",
            "_view_count": null,
            "_view_module": "@jupyter-widgets/base",
            "_view_module_version": "1.2.0",
            "_view_name": "StyleView",
            "description_width": ""
          }
        },
        "651aba7bbbd74d008b1b966315980366": {
          "model_module": "@jupyter-widgets/controls",
          "model_name": "HBoxModel",
          "model_module_version": "1.5.0",
          "state": {
            "_dom_classes": [],
            "_model_module": "@jupyter-widgets/controls",
            "_model_module_version": "1.5.0",
            "_model_name": "HBoxModel",
            "_view_count": null,
            "_view_module": "@jupyter-widgets/controls",
            "_view_module_version": "1.5.0",
            "_view_name": "HBoxView",
            "box_style": "",
            "children": [
              "IPY_MODEL_cff18133a21641f7a7e7fe318b9bdb78",
              "IPY_MODEL_980faff4090745189b7c07aafafb458d",
              "IPY_MODEL_90a52e4d21d74f10a7097da040607c0a"
            ],
            "layout": "IPY_MODEL_53705cb7737b4d518ab7726ee40215cc"
          }
        },
        "cff18133a21641f7a7e7fe318b9bdb78": {
          "model_module": "@jupyter-widgets/controls",
          "model_name": "HTMLModel",
          "model_module_version": "1.5.0",
          "state": {
            "_dom_classes": [],
            "_model_module": "@jupyter-widgets/controls",
            "_model_module_version": "1.5.0",
            "_model_name": "HTMLModel",
            "_view_count": null,
            "_view_module": "@jupyter-widgets/controls",
            "_view_module_version": "1.5.0",
            "_view_name": "HTMLView",
            "description": "",
            "description_tooltip": null,
            "layout": "IPY_MODEL_4145a953c9a64e679caa2057dc5e532b",
            "placeholder": "​",
            "style": "IPY_MODEL_0ba64499e82b465193e9bd7c844ecb8d",
            "value": "pytorch_model-00003-of-00003.bin: 100%"
          }
        },
        "980faff4090745189b7c07aafafb458d": {
          "model_module": "@jupyter-widgets/controls",
          "model_name": "FloatProgressModel",
          "model_module_version": "1.5.0",
          "state": {
            "_dom_classes": [],
            "_model_module": "@jupyter-widgets/controls",
            "_model_module_version": "1.5.0",
            "_model_name": "FloatProgressModel",
            "_view_count": null,
            "_view_module": "@jupyter-widgets/controls",
            "_view_module_version": "1.5.0",
            "_view_name": "ProgressView",
            "bar_style": "success",
            "description": "",
            "description_tooltip": null,
            "layout": "IPY_MODEL_0fff4d13a57a4565abc482b98b54aa3f",
            "max": 6179143750,
            "min": 0,
            "orientation": "horizontal",
            "style": "IPY_MODEL_e4c15517ef6c4f0f951f5306eeee784a",
            "value": 6179143750
          }
        },
        "90a52e4d21d74f10a7097da040607c0a": {
          "model_module": "@jupyter-widgets/controls",
          "model_name": "HTMLModel",
          "model_module_version": "1.5.0",
          "state": {
            "_dom_classes": [],
            "_model_module": "@jupyter-widgets/controls",
            "_model_module_version": "1.5.0",
            "_model_name": "HTMLModel",
            "_view_count": null,
            "_view_module": "@jupyter-widgets/controls",
            "_view_module_version": "1.5.0",
            "_view_name": "HTMLView",
            "description": "",
            "description_tooltip": null,
            "layout": "IPY_MODEL_b4d2556c297e424c8425e09de072c88d",
            "placeholder": "​",
            "style": "IPY_MODEL_8ea09f4b8eb649f7a323049cef4e838c",
            "value": " 6.18G/6.18G [04:35&lt;00:00, 19.9MB/s]"
          }
        },
        "53705cb7737b4d518ab7726ee40215cc": {
          "model_module": "@jupyter-widgets/base",
          "model_name": "LayoutModel",
          "model_module_version": "1.2.0",
          "state": {
            "_model_module": "@jupyter-widgets/base",
            "_model_module_version": "1.2.0",
            "_model_name": "LayoutModel",
            "_view_count": null,
            "_view_module": "@jupyter-widgets/base",
            "_view_module_version": "1.2.0",
            "_view_name": "LayoutView",
            "align_content": null,
            "align_items": null,
            "align_self": null,
            "border": null,
            "bottom": null,
            "display": null,
            "flex": null,
            "flex_flow": null,
            "grid_area": null,
            "grid_auto_columns": null,
            "grid_auto_flow": null,
            "grid_auto_rows": null,
            "grid_column": null,
            "grid_gap": null,
            "grid_row": null,
            "grid_template_areas": null,
            "grid_template_columns": null,
            "grid_template_rows": null,
            "height": null,
            "justify_content": null,
            "justify_items": null,
            "left": null,
            "margin": null,
            "max_height": null,
            "max_width": null,
            "min_height": null,
            "min_width": null,
            "object_fit": null,
            "object_position": null,
            "order": null,
            "overflow": null,
            "overflow_x": null,
            "overflow_y": null,
            "padding": null,
            "right": null,
            "top": null,
            "visibility": null,
            "width": null
          }
        },
        "4145a953c9a64e679caa2057dc5e532b": {
          "model_module": "@jupyter-widgets/base",
          "model_name": "LayoutModel",
          "model_module_version": "1.2.0",
          "state": {
            "_model_module": "@jupyter-widgets/base",
            "_model_module_version": "1.2.0",
            "_model_name": "LayoutModel",
            "_view_count": null,
            "_view_module": "@jupyter-widgets/base",
            "_view_module_version": "1.2.0",
            "_view_name": "LayoutView",
            "align_content": null,
            "align_items": null,
            "align_self": null,
            "border": null,
            "bottom": null,
            "display": null,
            "flex": null,
            "flex_flow": null,
            "grid_area": null,
            "grid_auto_columns": null,
            "grid_auto_flow": null,
            "grid_auto_rows": null,
            "grid_column": null,
            "grid_gap": null,
            "grid_row": null,
            "grid_template_areas": null,
            "grid_template_columns": null,
            "grid_template_rows": null,
            "height": null,
            "justify_content": null,
            "justify_items": null,
            "left": null,
            "margin": null,
            "max_height": null,
            "max_width": null,
            "min_height": null,
            "min_width": null,
            "object_fit": null,
            "object_position": null,
            "order": null,
            "overflow": null,
            "overflow_x": null,
            "overflow_y": null,
            "padding": null,
            "right": null,
            "top": null,
            "visibility": null,
            "width": null
          }
        },
        "0ba64499e82b465193e9bd7c844ecb8d": {
          "model_module": "@jupyter-widgets/controls",
          "model_name": "DescriptionStyleModel",
          "model_module_version": "1.5.0",
          "state": {
            "_model_module": "@jupyter-widgets/controls",
            "_model_module_version": "1.5.0",
            "_model_name": "DescriptionStyleModel",
            "_view_count": null,
            "_view_module": "@jupyter-widgets/base",
            "_view_module_version": "1.2.0",
            "_view_name": "StyleView",
            "description_width": ""
          }
        },
        "0fff4d13a57a4565abc482b98b54aa3f": {
          "model_module": "@jupyter-widgets/base",
          "model_name": "LayoutModel",
          "model_module_version": "1.2.0",
          "state": {
            "_model_module": "@jupyter-widgets/base",
            "_model_module_version": "1.2.0",
            "_model_name": "LayoutModel",
            "_view_count": null,
            "_view_module": "@jupyter-widgets/base",
            "_view_module_version": "1.2.0",
            "_view_name": "LayoutView",
            "align_content": null,
            "align_items": null,
            "align_self": null,
            "border": null,
            "bottom": null,
            "display": null,
            "flex": null,
            "flex_flow": null,
            "grid_area": null,
            "grid_auto_columns": null,
            "grid_auto_flow": null,
            "grid_auto_rows": null,
            "grid_column": null,
            "grid_gap": null,
            "grid_row": null,
            "grid_template_areas": null,
            "grid_template_columns": null,
            "grid_template_rows": null,
            "height": null,
            "justify_content": null,
            "justify_items": null,
            "left": null,
            "margin": null,
            "max_height": null,
            "max_width": null,
            "min_height": null,
            "min_width": null,
            "object_fit": null,
            "object_position": null,
            "order": null,
            "overflow": null,
            "overflow_x": null,
            "overflow_y": null,
            "padding": null,
            "right": null,
            "top": null,
            "visibility": null,
            "width": null
          }
        },
        "e4c15517ef6c4f0f951f5306eeee784a": {
          "model_module": "@jupyter-widgets/controls",
          "model_name": "ProgressStyleModel",
          "model_module_version": "1.5.0",
          "state": {
            "_model_module": "@jupyter-widgets/controls",
            "_model_module_version": "1.5.0",
            "_model_name": "ProgressStyleModel",
            "_view_count": null,
            "_view_module": "@jupyter-widgets/base",
            "_view_module_version": "1.2.0",
            "_view_name": "StyleView",
            "bar_color": null,
            "description_width": ""
          }
        },
        "b4d2556c297e424c8425e09de072c88d": {
          "model_module": "@jupyter-widgets/base",
          "model_name": "LayoutModel",
          "model_module_version": "1.2.0",
          "state": {
            "_model_module": "@jupyter-widgets/base",
            "_model_module_version": "1.2.0",
            "_model_name": "LayoutModel",
            "_view_count": null,
            "_view_module": "@jupyter-widgets/base",
            "_view_module_version": "1.2.0",
            "_view_name": "LayoutView",
            "align_content": null,
            "align_items": null,
            "align_self": null,
            "border": null,
            "bottom": null,
            "display": null,
            "flex": null,
            "flex_flow": null,
            "grid_area": null,
            "grid_auto_columns": null,
            "grid_auto_flow": null,
            "grid_auto_rows": null,
            "grid_column": null,
            "grid_gap": null,
            "grid_row": null,
            "grid_template_areas": null,
            "grid_template_columns": null,
            "grid_template_rows": null,
            "height": null,
            "justify_content": null,
            "justify_items": null,
            "left": null,
            "margin": null,
            "max_height": null,
            "max_width": null,
            "min_height": null,
            "min_width": null,
            "object_fit": null,
            "object_position": null,
            "order": null,
            "overflow": null,
            "overflow_x": null,
            "overflow_y": null,
            "padding": null,
            "right": null,
            "top": null,
            "visibility": null,
            "width": null
          }
        },
        "8ea09f4b8eb649f7a323049cef4e838c": {
          "model_module": "@jupyter-widgets/controls",
          "model_name": "DescriptionStyleModel",
          "model_module_version": "1.5.0",
          "state": {
            "_model_module": "@jupyter-widgets/controls",
            "_model_module_version": "1.5.0",
            "_model_name": "DescriptionStyleModel",
            "_view_count": null,
            "_view_module": "@jupyter-widgets/base",
            "_view_module_version": "1.2.0",
            "_view_name": "StyleView",
            "description_width": ""
          }
        },
        "471ad57298524f678ecd56f3418eb951": {
          "model_module": "@jupyter-widgets/controls",
          "model_name": "HBoxModel",
          "model_module_version": "1.5.0",
          "state": {
            "_dom_classes": [],
            "_model_module": "@jupyter-widgets/controls",
            "_model_module_version": "1.5.0",
            "_model_name": "HBoxModel",
            "_view_count": null,
            "_view_module": "@jupyter-widgets/controls",
            "_view_module_version": "1.5.0",
            "_view_name": "HBoxView",
            "box_style": "",
            "children": [
              "IPY_MODEL_05a4ca997b984ee287ba1b8d8fd76a42",
              "IPY_MODEL_cc6e41be20914abcb92fb7c7d598fa29",
              "IPY_MODEL_fd59dff927b547b1a37a423d56457344"
            ],
            "layout": "IPY_MODEL_d3ec04f0d2d64934a992104023298d01"
          }
        },
        "05a4ca997b984ee287ba1b8d8fd76a42": {
          "model_module": "@jupyter-widgets/controls",
          "model_name": "HTMLModel",
          "model_module_version": "1.5.0",
          "state": {
            "_dom_classes": [],
            "_model_module": "@jupyter-widgets/controls",
            "_model_module_version": "1.5.0",
            "_model_name": "HTMLModel",
            "_view_count": null,
            "_view_module": "@jupyter-widgets/controls",
            "_view_module_version": "1.5.0",
            "_view_name": "HTMLView",
            "description": "",
            "description_tooltip": null,
            "layout": "IPY_MODEL_2e29b3c28a8849c1bd5d85de7b47e778",
            "placeholder": "​",
            "style": "IPY_MODEL_4927c5f2f11b4d1d821c0449ee81b2cf",
            "value": "pytorch_model-00002-of-00003.bin: 100%"
          }
        },
        "cc6e41be20914abcb92fb7c7d598fa29": {
          "model_module": "@jupyter-widgets/controls",
          "model_name": "FloatProgressModel",
          "model_module_version": "1.5.0",
          "state": {
            "_dom_classes": [],
            "_model_module": "@jupyter-widgets/controls",
            "_model_module_version": "1.5.0",
            "_model_name": "FloatProgressModel",
            "_view_count": null,
            "_view_module": "@jupyter-widgets/controls",
            "_view_module_version": "1.5.0",
            "_view_name": "ProgressView",
            "bar_style": "success",
            "description": "",
            "description_tooltip": null,
            "layout": "IPY_MODEL_70b822c122da4831b608ac86bfce01c3",
            "max": 9904157815,
            "min": 0,
            "orientation": "horizontal",
            "style": "IPY_MODEL_6c805d03eb9742a6b79bd90dc43ac311",
            "value": 9904157815
          }
        },
        "fd59dff927b547b1a37a423d56457344": {
          "model_module": "@jupyter-widgets/controls",
          "model_name": "HTMLModel",
          "model_module_version": "1.5.0",
          "state": {
            "_dom_classes": [],
            "_model_module": "@jupyter-widgets/controls",
            "_model_module_version": "1.5.0",
            "_model_name": "HTMLModel",
            "_view_count": null,
            "_view_module": "@jupyter-widgets/controls",
            "_view_module_version": "1.5.0",
            "_view_name": "HTMLView",
            "description": "",
            "description_tooltip": null,
            "layout": "IPY_MODEL_36ad0e1246a247f6ae737164bef7a623",
            "placeholder": "​",
            "style": "IPY_MODEL_fe6455d83d3749018e5f6e6e9c49069c",
            "value": " 9.90G/9.90G [07:09&lt;00:00, 32.4MB/s]"
          }
        },
        "d3ec04f0d2d64934a992104023298d01": {
          "model_module": "@jupyter-widgets/base",
          "model_name": "LayoutModel",
          "model_module_version": "1.2.0",
          "state": {
            "_model_module": "@jupyter-widgets/base",
            "_model_module_version": "1.2.0",
            "_model_name": "LayoutModel",
            "_view_count": null,
            "_view_module": "@jupyter-widgets/base",
            "_view_module_version": "1.2.0",
            "_view_name": "LayoutView",
            "align_content": null,
            "align_items": null,
            "align_self": null,
            "border": null,
            "bottom": null,
            "display": null,
            "flex": null,
            "flex_flow": null,
            "grid_area": null,
            "grid_auto_columns": null,
            "grid_auto_flow": null,
            "grid_auto_rows": null,
            "grid_column": null,
            "grid_gap": null,
            "grid_row": null,
            "grid_template_areas": null,
            "grid_template_columns": null,
            "grid_template_rows": null,
            "height": null,
            "justify_content": null,
            "justify_items": null,
            "left": null,
            "margin": null,
            "max_height": null,
            "max_width": null,
            "min_height": null,
            "min_width": null,
            "object_fit": null,
            "object_position": null,
            "order": null,
            "overflow": null,
            "overflow_x": null,
            "overflow_y": null,
            "padding": null,
            "right": null,
            "top": null,
            "visibility": null,
            "width": null
          }
        },
        "2e29b3c28a8849c1bd5d85de7b47e778": {
          "model_module": "@jupyter-widgets/base",
          "model_name": "LayoutModel",
          "model_module_version": "1.2.0",
          "state": {
            "_model_module": "@jupyter-widgets/base",
            "_model_module_version": "1.2.0",
            "_model_name": "LayoutModel",
            "_view_count": null,
            "_view_module": "@jupyter-widgets/base",
            "_view_module_version": "1.2.0",
            "_view_name": "LayoutView",
            "align_content": null,
            "align_items": null,
            "align_self": null,
            "border": null,
            "bottom": null,
            "display": null,
            "flex": null,
            "flex_flow": null,
            "grid_area": null,
            "grid_auto_columns": null,
            "grid_auto_flow": null,
            "grid_auto_rows": null,
            "grid_column": null,
            "grid_gap": null,
            "grid_row": null,
            "grid_template_areas": null,
            "grid_template_columns": null,
            "grid_template_rows": null,
            "height": null,
            "justify_content": null,
            "justify_items": null,
            "left": null,
            "margin": null,
            "max_height": null,
            "max_width": null,
            "min_height": null,
            "min_width": null,
            "object_fit": null,
            "object_position": null,
            "order": null,
            "overflow": null,
            "overflow_x": null,
            "overflow_y": null,
            "padding": null,
            "right": null,
            "top": null,
            "visibility": null,
            "width": null
          }
        },
        "4927c5f2f11b4d1d821c0449ee81b2cf": {
          "model_module": "@jupyter-widgets/controls",
          "model_name": "DescriptionStyleModel",
          "model_module_version": "1.5.0",
          "state": {
            "_model_module": "@jupyter-widgets/controls",
            "_model_module_version": "1.5.0",
            "_model_name": "DescriptionStyleModel",
            "_view_count": null,
            "_view_module": "@jupyter-widgets/base",
            "_view_module_version": "1.2.0",
            "_view_name": "StyleView",
            "description_width": ""
          }
        },
        "70b822c122da4831b608ac86bfce01c3": {
          "model_module": "@jupyter-widgets/base",
          "model_name": "LayoutModel",
          "model_module_version": "1.2.0",
          "state": {
            "_model_module": "@jupyter-widgets/base",
            "_model_module_version": "1.2.0",
            "_model_name": "LayoutModel",
            "_view_count": null,
            "_view_module": "@jupyter-widgets/base",
            "_view_module_version": "1.2.0",
            "_view_name": "LayoutView",
            "align_content": null,
            "align_items": null,
            "align_self": null,
            "border": null,
            "bottom": null,
            "display": null,
            "flex": null,
            "flex_flow": null,
            "grid_area": null,
            "grid_auto_columns": null,
            "grid_auto_flow": null,
            "grid_auto_rows": null,
            "grid_column": null,
            "grid_gap": null,
            "grid_row": null,
            "grid_template_areas": null,
            "grid_template_columns": null,
            "grid_template_rows": null,
            "height": null,
            "justify_content": null,
            "justify_items": null,
            "left": null,
            "margin": null,
            "max_height": null,
            "max_width": null,
            "min_height": null,
            "min_width": null,
            "object_fit": null,
            "object_position": null,
            "order": null,
            "overflow": null,
            "overflow_x": null,
            "overflow_y": null,
            "padding": null,
            "right": null,
            "top": null,
            "visibility": null,
            "width": null
          }
        },
        "6c805d03eb9742a6b79bd90dc43ac311": {
          "model_module": "@jupyter-widgets/controls",
          "model_name": "ProgressStyleModel",
          "model_module_version": "1.5.0",
          "state": {
            "_model_module": "@jupyter-widgets/controls",
            "_model_module_version": "1.5.0",
            "_model_name": "ProgressStyleModel",
            "_view_count": null,
            "_view_module": "@jupyter-widgets/base",
            "_view_module_version": "1.2.0",
            "_view_name": "StyleView",
            "bar_color": null,
            "description_width": ""
          }
        },
        "36ad0e1246a247f6ae737164bef7a623": {
          "model_module": "@jupyter-widgets/base",
          "model_name": "LayoutModel",
          "model_module_version": "1.2.0",
          "state": {
            "_model_module": "@jupyter-widgets/base",
            "_model_module_version": "1.2.0",
            "_model_name": "LayoutModel",
            "_view_count": null,
            "_view_module": "@jupyter-widgets/base",
            "_view_module_version": "1.2.0",
            "_view_name": "LayoutView",
            "align_content": null,
            "align_items": null,
            "align_self": null,
            "border": null,
            "bottom": null,
            "display": null,
            "flex": null,
            "flex_flow": null,
            "grid_area": null,
            "grid_auto_columns": null,
            "grid_auto_flow": null,
            "grid_auto_rows": null,
            "grid_column": null,
            "grid_gap": null,
            "grid_row": null,
            "grid_template_areas": null,
            "grid_template_columns": null,
            "grid_template_rows": null,
            "height": null,
            "justify_content": null,
            "justify_items": null,
            "left": null,
            "margin": null,
            "max_height": null,
            "max_width": null,
            "min_height": null,
            "min_width": null,
            "object_fit": null,
            "object_position": null,
            "order": null,
            "overflow": null,
            "overflow_x": null,
            "overflow_y": null,
            "padding": null,
            "right": null,
            "top": null,
            "visibility": null,
            "width": null
          }
        },
        "fe6455d83d3749018e5f6e6e9c49069c": {
          "model_module": "@jupyter-widgets/controls",
          "model_name": "DescriptionStyleModel",
          "model_module_version": "1.5.0",
          "state": {
            "_model_module": "@jupyter-widgets/controls",
            "_model_module_version": "1.5.0",
            "_model_name": "DescriptionStyleModel",
            "_view_count": null,
            "_view_module": "@jupyter-widgets/base",
            "_view_module_version": "1.2.0",
            "_view_name": "StyleView",
            "description_width": ""
          }
        },
        "005843f4da014aa88c869450b96c2d5b": {
          "model_module": "@jupyter-widgets/controls",
          "model_name": "HBoxModel",
          "model_module_version": "1.5.0",
          "state": {
            "_dom_classes": [],
            "_model_module": "@jupyter-widgets/controls",
            "_model_module_version": "1.5.0",
            "_model_name": "HBoxModel",
            "_view_count": null,
            "_view_module": "@jupyter-widgets/controls",
            "_view_module_version": "1.5.0",
            "_view_name": "HBoxView",
            "box_style": "",
            "children": [
              "IPY_MODEL_975883e6fa0243dc888133ca2f51643d",
              "IPY_MODEL_e8dddc5046c04d22ac6e7e82c2eddad3",
              "IPY_MODEL_c65546ad22504f808db1b968ae558ff4"
            ],
            "layout": "IPY_MODEL_b2680f11c6de4e3d93e8bdb7e7d6ec36"
          }
        },
        "975883e6fa0243dc888133ca2f51643d": {
          "model_module": "@jupyter-widgets/controls",
          "model_name": "HTMLModel",
          "model_module_version": "1.5.0",
          "state": {
            "_dom_classes": [],
            "_model_module": "@jupyter-widgets/controls",
            "_model_module_version": "1.5.0",
            "_model_name": "HTMLModel",
            "_view_count": null,
            "_view_module": "@jupyter-widgets/controls",
            "_view_module_version": "1.5.0",
            "_view_name": "HTMLView",
            "description": "",
            "description_tooltip": null,
            "layout": "IPY_MODEL_760ac8b886774596b17fb0511938bf23",
            "placeholder": "​",
            "style": "IPY_MODEL_b422a218c76243438c9477bb73413a5c",
            "value": "Map: 100%"
          }
        },
        "e8dddc5046c04d22ac6e7e82c2eddad3": {
          "model_module": "@jupyter-widgets/controls",
          "model_name": "FloatProgressModel",
          "model_module_version": "1.5.0",
          "state": {
            "_dom_classes": [],
            "_model_module": "@jupyter-widgets/controls",
            "_model_module_version": "1.5.0",
            "_model_name": "FloatProgressModel",
            "_view_count": null,
            "_view_module": "@jupyter-widgets/controls",
            "_view_module_version": "1.5.0",
            "_view_name": "ProgressView",
            "bar_style": "success",
            "description": "",
            "description_tooltip": null,
            "layout": "IPY_MODEL_b4e3e6d8ef324c19acbff225fce82cb4",
            "max": 8659,
            "min": 0,
            "orientation": "horizontal",
            "style": "IPY_MODEL_12b7316bb10f4abe8c31e6fd3773d8c5",
            "value": 8659
          }
        },
        "c65546ad22504f808db1b968ae558ff4": {
          "model_module": "@jupyter-widgets/controls",
          "model_name": "HTMLModel",
          "model_module_version": "1.5.0",
          "state": {
            "_dom_classes": [],
            "_model_module": "@jupyter-widgets/controls",
            "_model_module_version": "1.5.0",
            "_model_name": "HTMLModel",
            "_view_count": null,
            "_view_module": "@jupyter-widgets/controls",
            "_view_module_version": "1.5.0",
            "_view_name": "HTMLView",
            "description": "",
            "description_tooltip": null,
            "layout": "IPY_MODEL_0eb6904b954d4f54bb74649af14c3f71",
            "placeholder": "​",
            "style": "IPY_MODEL_43e17875308340c9bf44f5d69cc7cd8d",
            "value": " 8659/8659 [00:05&lt;00:00, 1420.23 examples/s]"
          }
        },
        "b2680f11c6de4e3d93e8bdb7e7d6ec36": {
          "model_module": "@jupyter-widgets/base",
          "model_name": "LayoutModel",
          "model_module_version": "1.2.0",
          "state": {
            "_model_module": "@jupyter-widgets/base",
            "_model_module_version": "1.2.0",
            "_model_name": "LayoutModel",
            "_view_count": null,
            "_view_module": "@jupyter-widgets/base",
            "_view_module_version": "1.2.0",
            "_view_name": "LayoutView",
            "align_content": null,
            "align_items": null,
            "align_self": null,
            "border": null,
            "bottom": null,
            "display": null,
            "flex": null,
            "flex_flow": null,
            "grid_area": null,
            "grid_auto_columns": null,
            "grid_auto_flow": null,
            "grid_auto_rows": null,
            "grid_column": null,
            "grid_gap": null,
            "grid_row": null,
            "grid_template_areas": null,
            "grid_template_columns": null,
            "grid_template_rows": null,
            "height": null,
            "justify_content": null,
            "justify_items": null,
            "left": null,
            "margin": null,
            "max_height": null,
            "max_width": null,
            "min_height": null,
            "min_width": null,
            "object_fit": null,
            "object_position": null,
            "order": null,
            "overflow": null,
            "overflow_x": null,
            "overflow_y": null,
            "padding": null,
            "right": null,
            "top": null,
            "visibility": null,
            "width": null
          }
        },
        "760ac8b886774596b17fb0511938bf23": {
          "model_module": "@jupyter-widgets/base",
          "model_name": "LayoutModel",
          "model_module_version": "1.2.0",
          "state": {
            "_model_module": "@jupyter-widgets/base",
            "_model_module_version": "1.2.0",
            "_model_name": "LayoutModel",
            "_view_count": null,
            "_view_module": "@jupyter-widgets/base",
            "_view_module_version": "1.2.0",
            "_view_name": "LayoutView",
            "align_content": null,
            "align_items": null,
            "align_self": null,
            "border": null,
            "bottom": null,
            "display": null,
            "flex": null,
            "flex_flow": null,
            "grid_area": null,
            "grid_auto_columns": null,
            "grid_auto_flow": null,
            "grid_auto_rows": null,
            "grid_column": null,
            "grid_gap": null,
            "grid_row": null,
            "grid_template_areas": null,
            "grid_template_columns": null,
            "grid_template_rows": null,
            "height": null,
            "justify_content": null,
            "justify_items": null,
            "left": null,
            "margin": null,
            "max_height": null,
            "max_width": null,
            "min_height": null,
            "min_width": null,
            "object_fit": null,
            "object_position": null,
            "order": null,
            "overflow": null,
            "overflow_x": null,
            "overflow_y": null,
            "padding": null,
            "right": null,
            "top": null,
            "visibility": null,
            "width": null
          }
        },
        "b422a218c76243438c9477bb73413a5c": {
          "model_module": "@jupyter-widgets/controls",
          "model_name": "DescriptionStyleModel",
          "model_module_version": "1.5.0",
          "state": {
            "_model_module": "@jupyter-widgets/controls",
            "_model_module_version": "1.5.0",
            "_model_name": "DescriptionStyleModel",
            "_view_count": null,
            "_view_module": "@jupyter-widgets/base",
            "_view_module_version": "1.2.0",
            "_view_name": "StyleView",
            "description_width": ""
          }
        },
        "b4e3e6d8ef324c19acbff225fce82cb4": {
          "model_module": "@jupyter-widgets/base",
          "model_name": "LayoutModel",
          "model_module_version": "1.2.0",
          "state": {
            "_model_module": "@jupyter-widgets/base",
            "_model_module_version": "1.2.0",
            "_model_name": "LayoutModel",
            "_view_count": null,
            "_view_module": "@jupyter-widgets/base",
            "_view_module_version": "1.2.0",
            "_view_name": "LayoutView",
            "align_content": null,
            "align_items": null,
            "align_self": null,
            "border": null,
            "bottom": null,
            "display": null,
            "flex": null,
            "flex_flow": null,
            "grid_area": null,
            "grid_auto_columns": null,
            "grid_auto_flow": null,
            "grid_auto_rows": null,
            "grid_column": null,
            "grid_gap": null,
            "grid_row": null,
            "grid_template_areas": null,
            "grid_template_columns": null,
            "grid_template_rows": null,
            "height": null,
            "justify_content": null,
            "justify_items": null,
            "left": null,
            "margin": null,
            "max_height": null,
            "max_width": null,
            "min_height": null,
            "min_width": null,
            "object_fit": null,
            "object_position": null,
            "order": null,
            "overflow": null,
            "overflow_x": null,
            "overflow_y": null,
            "padding": null,
            "right": null,
            "top": null,
            "visibility": null,
            "width": null
          }
        },
        "12b7316bb10f4abe8c31e6fd3773d8c5": {
          "model_module": "@jupyter-widgets/controls",
          "model_name": "ProgressStyleModel",
          "model_module_version": "1.5.0",
          "state": {
            "_model_module": "@jupyter-widgets/controls",
            "_model_module_version": "1.5.0",
            "_model_name": "ProgressStyleModel",
            "_view_count": null,
            "_view_module": "@jupyter-widgets/base",
            "_view_module_version": "1.2.0",
            "_view_name": "StyleView",
            "bar_color": null,
            "description_width": ""
          }
        },
        "0eb6904b954d4f54bb74649af14c3f71": {
          "model_module": "@jupyter-widgets/base",
          "model_name": "LayoutModel",
          "model_module_version": "1.2.0",
          "state": {
            "_model_module": "@jupyter-widgets/base",
            "_model_module_version": "1.2.0",
            "_model_name": "LayoutModel",
            "_view_count": null,
            "_view_module": "@jupyter-widgets/base",
            "_view_module_version": "1.2.0",
            "_view_name": "LayoutView",
            "align_content": null,
            "align_items": null,
            "align_self": null,
            "border": null,
            "bottom": null,
            "display": null,
            "flex": null,
            "flex_flow": null,
            "grid_area": null,
            "grid_auto_columns": null,
            "grid_auto_flow": null,
            "grid_auto_rows": null,
            "grid_column": null,
            "grid_gap": null,
            "grid_row": null,
            "grid_template_areas": null,
            "grid_template_columns": null,
            "grid_template_rows": null,
            "height": null,
            "justify_content": null,
            "justify_items": null,
            "left": null,
            "margin": null,
            "max_height": null,
            "max_width": null,
            "min_height": null,
            "min_width": null,
            "object_fit": null,
            "object_position": null,
            "order": null,
            "overflow": null,
            "overflow_x": null,
            "overflow_y": null,
            "padding": null,
            "right": null,
            "top": null,
            "visibility": null,
            "width": null
          }
        },
        "43e17875308340c9bf44f5d69cc7cd8d": {
          "model_module": "@jupyter-widgets/controls",
          "model_name": "DescriptionStyleModel",
          "model_module_version": "1.5.0",
          "state": {
            "_model_module": "@jupyter-widgets/controls",
            "_model_module_version": "1.5.0",
            "_model_name": "DescriptionStyleModel",
            "_view_count": null,
            "_view_module": "@jupyter-widgets/base",
            "_view_module_version": "1.2.0",
            "_view_name": "StyleView",
            "description_width": ""
          }
        },
        "d9222f532524455eb415f8dd7eb174de": {
          "model_module": "@jupyter-widgets/controls",
          "model_name": "HBoxModel",
          "model_module_version": "1.5.0",
          "state": {
            "_dom_classes": [],
            "_model_module": "@jupyter-widgets/controls",
            "_model_module_version": "1.5.0",
            "_model_name": "HBoxModel",
            "_view_count": null,
            "_view_module": "@jupyter-widgets/controls",
            "_view_module_version": "1.5.0",
            "_view_name": "HBoxView",
            "box_style": "",
            "children": [
              "IPY_MODEL_7eb6e6ad1ec54ec28e286bf0d826f7a4",
              "IPY_MODEL_4bb18fa454de4da79d848cbe601cc5b1",
              "IPY_MODEL_2d5c8a22d1924f30b7fa6ea6d87fcd89"
            ],
            "layout": "IPY_MODEL_faa56456018a4119b3494f3374768743"
          }
        },
        "7eb6e6ad1ec54ec28e286bf0d826f7a4": {
          "model_module": "@jupyter-widgets/controls",
          "model_name": "HTMLModel",
          "model_module_version": "1.5.0",
          "state": {
            "_dom_classes": [],
            "_model_module": "@jupyter-widgets/controls",
            "_model_module_version": "1.5.0",
            "_model_name": "HTMLModel",
            "_view_count": null,
            "_view_module": "@jupyter-widgets/controls",
            "_view_module_version": "1.5.0",
            "_view_name": "HTMLView",
            "description": "",
            "description_tooltip": null,
            "layout": "IPY_MODEL_e175e2f0b25246589e3e9f7b42ae0e17",
            "placeholder": "​",
            "style": "IPY_MODEL_53417c0992204ebfbecf2cd3a17cd759",
            "value": "Map: 100%"
          }
        },
        "4bb18fa454de4da79d848cbe601cc5b1": {
          "model_module": "@jupyter-widgets/controls",
          "model_name": "FloatProgressModel",
          "model_module_version": "1.5.0",
          "state": {
            "_dom_classes": [],
            "_model_module": "@jupyter-widgets/controls",
            "_model_module_version": "1.5.0",
            "_model_name": "FloatProgressModel",
            "_view_count": null,
            "_view_module": "@jupyter-widgets/controls",
            "_view_module_version": "1.5.0",
            "_view_name": "ProgressView",
            "bar_style": "success",
            "description": "",
            "description_tooltip": null,
            "layout": "IPY_MODEL_62dcef3e01154200b1c303707eafea9e",
            "max": 1034,
            "min": 0,
            "orientation": "horizontal",
            "style": "IPY_MODEL_3fec96c0a5fe4c1b9cdc2b9c76ed68a9",
            "value": 1034
          }
        },
        "2d5c8a22d1924f30b7fa6ea6d87fcd89": {
          "model_module": "@jupyter-widgets/controls",
          "model_name": "HTMLModel",
          "model_module_version": "1.5.0",
          "state": {
            "_dom_classes": [],
            "_model_module": "@jupyter-widgets/controls",
            "_model_module_version": "1.5.0",
            "_model_name": "HTMLModel",
            "_view_count": null,
            "_view_module": "@jupyter-widgets/controls",
            "_view_module_version": "1.5.0",
            "_view_name": "HTMLView",
            "description": "",
            "description_tooltip": null,
            "layout": "IPY_MODEL_5d2dd6d2f0334fb48fa0806da060626e",
            "placeholder": "​",
            "style": "IPY_MODEL_624f1a4c9a664715a8c46b9986b2def8",
            "value": " 1034/1034 [00:00&lt;00:00, 1774.08 examples/s]"
          }
        },
        "faa56456018a4119b3494f3374768743": {
          "model_module": "@jupyter-widgets/base",
          "model_name": "LayoutModel",
          "model_module_version": "1.2.0",
          "state": {
            "_model_module": "@jupyter-widgets/base",
            "_model_module_version": "1.2.0",
            "_model_name": "LayoutModel",
            "_view_count": null,
            "_view_module": "@jupyter-widgets/base",
            "_view_module_version": "1.2.0",
            "_view_name": "LayoutView",
            "align_content": null,
            "align_items": null,
            "align_self": null,
            "border": null,
            "bottom": null,
            "display": null,
            "flex": null,
            "flex_flow": null,
            "grid_area": null,
            "grid_auto_columns": null,
            "grid_auto_flow": null,
            "grid_auto_rows": null,
            "grid_column": null,
            "grid_gap": null,
            "grid_row": null,
            "grid_template_areas": null,
            "grid_template_columns": null,
            "grid_template_rows": null,
            "height": null,
            "justify_content": null,
            "justify_items": null,
            "left": null,
            "margin": null,
            "max_height": null,
            "max_width": null,
            "min_height": null,
            "min_width": null,
            "object_fit": null,
            "object_position": null,
            "order": null,
            "overflow": null,
            "overflow_x": null,
            "overflow_y": null,
            "padding": null,
            "right": null,
            "top": null,
            "visibility": null,
            "width": null
          }
        },
        "e175e2f0b25246589e3e9f7b42ae0e17": {
          "model_module": "@jupyter-widgets/base",
          "model_name": "LayoutModel",
          "model_module_version": "1.2.0",
          "state": {
            "_model_module": "@jupyter-widgets/base",
            "_model_module_version": "1.2.0",
            "_model_name": "LayoutModel",
            "_view_count": null,
            "_view_module": "@jupyter-widgets/base",
            "_view_module_version": "1.2.0",
            "_view_name": "LayoutView",
            "align_content": null,
            "align_items": null,
            "align_self": null,
            "border": null,
            "bottom": null,
            "display": null,
            "flex": null,
            "flex_flow": null,
            "grid_area": null,
            "grid_auto_columns": null,
            "grid_auto_flow": null,
            "grid_auto_rows": null,
            "grid_column": null,
            "grid_gap": null,
            "grid_row": null,
            "grid_template_areas": null,
            "grid_template_columns": null,
            "grid_template_rows": null,
            "height": null,
            "justify_content": null,
            "justify_items": null,
            "left": null,
            "margin": null,
            "max_height": null,
            "max_width": null,
            "min_height": null,
            "min_width": null,
            "object_fit": null,
            "object_position": null,
            "order": null,
            "overflow": null,
            "overflow_x": null,
            "overflow_y": null,
            "padding": null,
            "right": null,
            "top": null,
            "visibility": null,
            "width": null
          }
        },
        "53417c0992204ebfbecf2cd3a17cd759": {
          "model_module": "@jupyter-widgets/controls",
          "model_name": "DescriptionStyleModel",
          "model_module_version": "1.5.0",
          "state": {
            "_model_module": "@jupyter-widgets/controls",
            "_model_module_version": "1.5.0",
            "_model_name": "DescriptionStyleModel",
            "_view_count": null,
            "_view_module": "@jupyter-widgets/base",
            "_view_module_version": "1.2.0",
            "_view_name": "StyleView",
            "description_width": ""
          }
        },
        "62dcef3e01154200b1c303707eafea9e": {
          "model_module": "@jupyter-widgets/base",
          "model_name": "LayoutModel",
          "model_module_version": "1.2.0",
          "state": {
            "_model_module": "@jupyter-widgets/base",
            "_model_module_version": "1.2.0",
            "_model_name": "LayoutModel",
            "_view_count": null,
            "_view_module": "@jupyter-widgets/base",
            "_view_module_version": "1.2.0",
            "_view_name": "LayoutView",
            "align_content": null,
            "align_items": null,
            "align_self": null,
            "border": null,
            "bottom": null,
            "display": null,
            "flex": null,
            "flex_flow": null,
            "grid_area": null,
            "grid_auto_columns": null,
            "grid_auto_flow": null,
            "grid_auto_rows": null,
            "grid_column": null,
            "grid_gap": null,
            "grid_row": null,
            "grid_template_areas": null,
            "grid_template_columns": null,
            "grid_template_rows": null,
            "height": null,
            "justify_content": null,
            "justify_items": null,
            "left": null,
            "margin": null,
            "max_height": null,
            "max_width": null,
            "min_height": null,
            "min_width": null,
            "object_fit": null,
            "object_position": null,
            "order": null,
            "overflow": null,
            "overflow_x": null,
            "overflow_y": null,
            "padding": null,
            "right": null,
            "top": null,
            "visibility": null,
            "width": null
          }
        },
        "3fec96c0a5fe4c1b9cdc2b9c76ed68a9": {
          "model_module": "@jupyter-widgets/controls",
          "model_name": "ProgressStyleModel",
          "model_module_version": "1.5.0",
          "state": {
            "_model_module": "@jupyter-widgets/controls",
            "_model_module_version": "1.5.0",
            "_model_name": "ProgressStyleModel",
            "_view_count": null,
            "_view_module": "@jupyter-widgets/base",
            "_view_module_version": "1.2.0",
            "_view_name": "StyleView",
            "bar_color": null,
            "description_width": ""
          }
        },
        "5d2dd6d2f0334fb48fa0806da060626e": {
          "model_module": "@jupyter-widgets/base",
          "model_name": "LayoutModel",
          "model_module_version": "1.2.0",
          "state": {
            "_model_module": "@jupyter-widgets/base",
            "_model_module_version": "1.2.0",
            "_model_name": "LayoutModel",
            "_view_count": null,
            "_view_module": "@jupyter-widgets/base",
            "_view_module_version": "1.2.0",
            "_view_name": "LayoutView",
            "align_content": null,
            "align_items": null,
            "align_self": null,
            "border": null,
            "bottom": null,
            "display": null,
            "flex": null,
            "flex_flow": null,
            "grid_area": null,
            "grid_auto_columns": null,
            "grid_auto_flow": null,
            "grid_auto_rows": null,
            "grid_column": null,
            "grid_gap": null,
            "grid_row": null,
            "grid_template_areas": null,
            "grid_template_columns": null,
            "grid_template_rows": null,
            "height": null,
            "justify_content": null,
            "justify_items": null,
            "left": null,
            "margin": null,
            "max_height": null,
            "max_width": null,
            "min_height": null,
            "min_width": null,
            "object_fit": null,
            "object_position": null,
            "order": null,
            "overflow": null,
            "overflow_x": null,
            "overflow_y": null,
            "padding": null,
            "right": null,
            "top": null,
            "visibility": null,
            "width": null
          }
        },
        "624f1a4c9a664715a8c46b9986b2def8": {
          "model_module": "@jupyter-widgets/controls",
          "model_name": "DescriptionStyleModel",
          "model_module_version": "1.5.0",
          "state": {
            "_model_module": "@jupyter-widgets/controls",
            "_model_module_version": "1.5.0",
            "_model_name": "DescriptionStyleModel",
            "_view_count": null,
            "_view_module": "@jupyter-widgets/base",
            "_view_module_version": "1.2.0",
            "_view_name": "StyleView",
            "description_width": ""
          }
        }
      }
    }
  },
  "nbformat": 4,
  "nbformat_minor": 0
}